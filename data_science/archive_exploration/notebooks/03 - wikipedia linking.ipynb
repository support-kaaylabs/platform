{
 "cells": [
  {
   "cell_type": "markdown",
   "metadata": {},
   "source": [
    "# A couple of brief notes on how archives store information\n",
    "Archives are arranged in a really interesting way - they're roughly hierarchical trees (with some more graphy elements when you get close to the leaf nodes). Each node contains multiple free-text notes fields which provide descriptions of the common features of their children (this applies even at leaf node level - an _item_ in the hierarchy is usually a box containing multiple _pieces_ of physical material, ie multiple letters or multiple notebook pages). The tree doesn't necessarily describe the arrangement of nested items in physical space; The tree is more like an informational hierarchy where sections, series and items are gathered conceptually.\n",
    "\n",
    "This sounds great in theory but, as we saw in the last notebook, the tree-based structure makes it difficult to jump quickly from a leaf node in one branch of the hierarchy to another (conceptually related) leaf existing in another branch. Making the jump between the nodes would involve traversing up the tree to (at least) the point where the branches split, and then travelling all the way back down to the related leaf. That journey also requires perfect knowledge of the tree's structure and an understanding of the complete context. While archivists do a good job arranging items into conceptual hierarchies, information is incredibly messy medium to work with and its full complexity can't always be encapsulated by the tree structure. Archivists therefore often default to the items' _provenance_ as a way of overcoming the problem while conforming to the established guidelines. _Provenance_ refers to the way that the archive material was arranged by its original owner. In this way, archives preserve the owner's usage (a good and valuable thing), but that benefit comes at a cost to users trying to discover information or make connections within/across archives.\n",
    "\n",
    "# Wikipedia linking\n",
    "When arriving at a leaf node, it can be hard to find its context within the collection without full tree traversal. \n",
    "\n",
    "Fun idea - wouldn't it be nice to take any arbitrary record from the archive and automatically annotate it with links to relevant wikipedia articles? In other words, can we make our archive records look and feel more like wikipedia pages?  \n",
    "Wikipedia's strength is in its internal links - a typical page contains dozens of links to other contextually related pages, allowing users to traverse an endless warren of information without getting stuck at leaf nodes. It's a great established model and it _works_, so why not emulate it?   \n",
    "Wellcome has great links with wikipedia/wikimedia/wikidata, and a lot of our digitised material has already ended up on their platform(s). Why not use the incredible graph that is wikidata to enhance our archives, and in turn enhance wikidata when the archive data eventually makes its way there?  \n",
    "Ideally we'll be able to intelligently link all of our own archive data to itself eventually, but we can make a quick, cheap start by tying our records to wikipedia first.\n",
    "\n",
    "### Loading data\n",
    "As usual, we'll start by importing a few useful packages for manipulating and displaying the data, and load in archive the data itself."
   ]
  },
  {
   "cell_type": "code",
   "execution_count": 1,
   "metadata": {},
   "outputs": [],
   "source": [
    "from bs4 import BeautifulSoup\n",
    "import pandas as pd\n",
    "from string import punctuation\n",
    "import spacy\n",
    "import re\n",
    "from IPython.core.display import display, HTML"
   ]
  },
  {
   "cell_type": "code",
   "execution_count": 2,
   "metadata": {},
   "outputs": [],
   "source": [
    "df = pd.read_json('data/calm_records.json')"
   ]
  },
  {
   "cell_type": "markdown",
   "metadata": {},
   "source": [
    "### Abortion Laws Reform Act\n",
    "An interesting example to start with"
   ]
  },
  {
   "cell_type": "code",
   "execution_count": 3,
   "metadata": {},
   "outputs": [
    {
     "data": {
      "text/plain": [
       "\"<p>The Abortion Law Reform Association (ALRA) was founded in 1935 for the legalisation of abortion in certain circumstances.  This was achieved by the 1967 Abortion Act: the Association continues to combat attempts to restrict the availability of legal abortions and to ensure that the intentions of the Act are being carried out.\\n<p>An outline chronology follows, giving significant dates in the history of abortion law in the United Kingdom and of the ALRA:\\n<p>1803                         Lord Ellenborough's Act criminalises the procurement of abortion, previously permissable up to 'quickening'\\n<p>1861\\t\\tLegislation pertaining to abortion consolidated in the Offences Against the Person Act\\n<p>1929\\t\\tInfant Life (Preservation) Act provides for abortion when carrying the pregnancy to term would be fatal\\n<p>1931-1932   \\tJustice McCardie's remarks during abortion cases at Leeds Assizes receive widespread press attention\\n<p>1934\\t\\tCooperative Women's Guild pass a resolution in favour of legalisa\""
      ]
     },
     "execution_count": 3,
     "metadata": {},
     "output_type": "execute_result"
    }
   ],
   "source": [
    "record = df.loc[269057]['AdminHistory'][0]\n",
    "record[:1000]"
   ]
  },
  {
   "cell_type": "markdown",
   "metadata": {},
   "source": [
    "this record contains a load of ugly hard-coded HTML - let's parse that and turn it into more readable plaintext"
   ]
  },
  {
   "cell_type": "code",
   "execution_count": 4,
   "metadata": {},
   "outputs": [
    {
     "name": "stdout",
     "output_type": "stream",
     "text": [
      "The Abortion Law Reform Association (ALRA) was founded in 1935 for the legalisation of abortion in certain circumstances.  This was achieved by the 1967 Abortion Act: the Association continues to combat attempts to restrict the availability of legal abortions and to ensure that the intentions of the Act are being carried out.\n",
      "An outline chronology follows, giving significant dates in the history of abortion law in the United Kingdom and of the ALRA:\n",
      "1803                         Lord Ellenborough's Act criminalises the procurement of abortion, previously permissable up to 'quickening'\n",
      "1861\t\tLegislation pertaining to abortion consolidated in the Offences Against the Person Act\n",
      "1929\t\tInfant Life (Preservation) Act provides for abortion when carrying the pregnancy to term would be fatal\n",
      "1931-1932   \tJustice McCardie's remarks during abortion cases at Leeds Assizes receive widespread press attention\n",
      "1934\t\tCooperative Women's Guild pass a resolution in favour of legalisation of abortion at their Annual Meeting\n",
      "1934\t\tBritish Medical Association Committee on the Medical Aspects of Abortion set up (reports 1936)\n",
      "1936\t\tAbortion: Three Views by Stella Browne, Harry Roberts and A Ludovici published\n",
      "1936\t\tFoundation of Abortion Law Reform Association (ALRA)\n",
      "1936-1937   \tJoint Committee of Midwifery Induced Abortion Survey\n",
      "1937\t\tInterdepartmental Committee on Abortion set up under chairmanship of Mr Norman Birkett (reported 1939)\n",
      "1938\t\tAlec Bourne tried for performing abortion on 14-year-old girl gang-raped by soldiers; Mr Justice Macnaghten's ruling establishes common law precedent for abortion on\n",
      "                                        psychiatric grounds \n",
      "1944\t\tInformal ALRA meeting to decided post-war policy\n",
      "1947\t\tPublication of Back Street Surgery\n",
      "1948\t\tBergmann and Ferguson case: doctor's good faith rather than correctness of diagnosis ruled to be the issue\n",
      "1949\t\tDr Eustace Chesser's lecture on 'Society and Abortion'\n",
      "1950\t\tChesser pamphlet distributed\n",
      "1950\t\tThe Fallen Sparrow, play on abortion, produced at Gateway Theatre Club\n",
      "1950\t\tEnquirer's leaflet drafted\n",
      "1952\t\tJoseph Reeves' Private Member's Bill talked out\n",
      "1954\t\tLord Amulree's Bill introduced in House of Lords, withdrawn before Second Reading\n",
      "1956\t             Kenneth Robinson asks question in House of Commons\n",
      "1957\t             Parliamentary questions from Lena Jeger and Douglas Houghton \n",
      "1958\t\tNewton and Stungo case leads to re-emphasis of psychiatric health as grounds for abortion\n",
      "1958\t             Publication of Glanville Williams The Sanctity of Life and the Criminal Law\n",
      "1960\t\tAlice Jenkins' Law for the Rich published\n",
      "1961\t\tK Robinson's Bill talked out in Parliament\n",
      "1961\t\tThalidomide disaster\n",
      "1962\t\tParliamentary Questions in Commons and Lords as to whether mothers who had taken thalidomide eligible for abortions. \n",
      "1962\t\tFormation of Birmingham ALRA Group\n",
      "1963\t\tNorth-west London and Bristol Groups formed\n",
      "1963\t\tDoctors' Survey\n",
      "1964\t\tManchester Group formed\n",
      "1964\t             First ALRA attempt to enlist large-scale Parliamentary support\n",
      "1964\t             Survey of London GPs by North-west London Group (published 1965)\n",
      "1964\t             Return of a Labour Government: Gerald Gardiner QC, a longstanding adviser to ALRA, as Lord Chancellor\n",
      "1965\t\tAbortifacients survey by Birmingham Group\n",
      "1965\t\tDeputation to Home Secretary (Sir Frank Soskice) \n",
      "1965\t\tCumberland Doctors' Survey\n",
      "1965\t             South East London Group formed\n",
      "1965\t\tRenee Short and David Kerr questions in Commons\n",
      "1965\t\tPublication of Abortion: An Ethical Discussion, report of the Church Assembly's Board for Social Responsibility\n",
      "1965\t\tRC MP talks out Renee Short's 10-Minute Rule Bill\n",
      "1965\t\tLord Silkin's first Bill introduced\n",
      "1965\t             National Opinion Poll\n",
      "1966\t\tSimon Wingfield Digby's Bill talked out by RCs\n",
      "1966\t\tJoint Report by BMA and RCOG\n",
      "1966\t\tSouth East London Group Clergymen's Survey\n",
      "1966\t\tLord Silkin's second Bill introduced\n",
      "1966\t\tDavid Steel successful in private members' ballot and agrees to sponsor Bill on abortion\n",
      "1966\t\tGovernment allocates time for debates and Home Office drafting\n",
      "1966\t\tPublication of Paul Ferris The Nameless: Abortion in Britain Today\n",
      "1967\t\tSPUC formed to fight Steel Bill\n",
      "1966\t\tNOP medical survey\n",
      "1966\t\tLord Silkin's second Bill passes through House of Lords\n",
      "1966\t\tSteel Bill passed and receives Royal Assent, October\n",
      "1968 Apr     \tAbortion Act comes into force\n",
      "1969\t\tNorman St John Stevas introduces Bill under 10 minute Rule to amend Act\n",
      "1970\t\tGodman Irvine attempts to introduce a private member's Bill to amend Act\n",
      "1970\t\tLIFE set up to campaign against Act\n",
      "1970-1971    \tRCOG Enquiry into First Year of the Abortion Act, Working Party on Unplanned Pregnancy\n",
      "1971-1974    \tCommittee on the Working of the Abortion Act (Lane Committee)\n",
      "1974\t\tBirth control becomes free under the NHS\n",
      "1974\t\tBabies for Burning published\n",
      "1975\t\tJames White Abortion (Amendment) Bill\n",
      "1975\t\tBabies for Burning discredited by Sunday Times investigation\n",
      "1975-1980     \tSelect Committee on Abortion\n",
      "1977\t\tBenyon Abortion Amendment Bill\n",
      "1978\t\tBraine 10 Minute Rule Abortion Amendment Bill\n",
      "1979-1980    \tJohn Corrie Abortion (Amendment) Bill\n",
      "1980\t\tDavid Alton 10 Minute Rule Abortion Amendment Bill\n",
      "1988\t\tDavid Alton Abortion (Amendment) Bill\n",
      "1990\t\tAttempt to restrict abortion through a clause in Human Fertilisation and Embryology Bill; vote fixes limit at 24 weeks, with no limit in cases of severe fetal abnormality or\n",
      "                                        permanent injury to mother's health\n",
      "1991\t\tMifepristone (RU-486), abortion drug, licensed for use by registered medical practitioners in authorised hospitals and clinics\n",
      "1992\t\tAttempts by American anti-abortion extremists to picket clinics, etc, in UK\n",
      "2003\t\tALRA merges with the National Abortion Campaign to form Abortion Rights\n"
     ]
    }
   ],
   "source": [
    "soup = BeautifulSoup(record, 'html.parser')\n",
    "plain_text = soup.get_text()\n",
    "\n",
    "print(plain_text)"
   ]
  },
  {
   "cell_type": "markdown",
   "metadata": {},
   "source": [
    "`Spacy` is a nice natural language processing (NLP) library which rapidly adds tonnes of metadata to a document. Each word is automatically tagged with a part-of-speech tag, a word vector etc. Without the user having to do anything at all, spacy will do 95% of the usual pre-processing required for typical NLP tasks. "
   ]
  },
  {
   "cell_type": "code",
   "execution_count": 5,
   "metadata": {},
   "outputs": [],
   "source": [
    "nlp = spacy.load('en')\n",
    "doc = nlp(plain_text)"
   ]
  },
  {
   "cell_type": "markdown",
   "metadata": {},
   "source": [
    "That's all we need to do...\n",
    "\n",
    "We can use now use spacy's (POS) tags to identify _named entities_, like people, places, or organisations. To a decent approximation, these named entities are usually the words which wikipedia chooses to provide more context to with a link. By identifying the relevant named entities (excluding certain types, see more documentation of entity types [here](https://spacy.io/usage/linguistic-features#entity-types)), we can do a tiny amount of string manipulation and return a neat wikipedia search string."
   ]
  },
  {
   "cell_type": "code",
   "execution_count": 6,
   "metadata": {},
   "outputs": [],
   "source": [
    "ent_types = ['PERSON', \n",
    "             'NORP', \n",
    "             'FACILITY', \n",
    "             'ORG', \n",
    "             'GPE', \n",
    "             'LOC', \n",
    "             'PRODUCT', \n",
    "             'EVENT', \n",
    "             'WORK_OF_ART', \n",
    "             'LAW', \n",
    "             'LANGUAGE']"
   ]
  },
  {
   "cell_type": "code",
   "execution_count": 7,
   "metadata": {},
   "outputs": [
    {
     "name": "stdout",
     "output_type": "stream",
     "text": [
      "https://en.wikipedia.org/w/index.php?search=the+abortion+law+reform+association\n",
      "https://en.wikipedia.org/w/index.php?search=the+1967+abortion+act\n",
      "https://en.wikipedia.org/w/index.php?search=the+united+kingdom\n",
      "https://en.wikipedia.org/w/index.php?search=the+offences+against+the+person+act\n",
      "https://en.wikipedia.org/w/index.php?search=infant+life+preservation+act\n",
      "https://en.wikipedia.org/w/index.php?search=justice+mccardie\n",
      "https://en.wikipedia.org/w/index.php?search=cooperative+women+guild\n",
      "https://en.wikipedia.org/w/index.php?search=meeting+1934\n",
      "https://en.wikipedia.org/w/index.php?search=british+medical+association+committee\n",
      "https://en.wikipedia.org/w/index.php?search=the+medical+aspects+of+abortion\n",
      "https://en.wikipedia.org/w/index.php?search=stella+browne\n",
      "https://en.wikipedia.org/w/index.php?search=harry+roberts\n",
      "https://en.wikipedia.org/w/index.php?search=a+ludovici\n",
      "https://en.wikipedia.org/w/index.php?search=foundation+of+abortion+law+reform+association\n",
      "https://en.wikipedia.org/w/index.php?search=joint+committee\n",
      "https://en.wikipedia.org/w/index.php?search=midwifery+induced+abortion+survey\n",
      "https://en.wikipedia.org/w/index.php?search=interdepartmental+committee+on+abortion\n",
      "https://en.wikipedia.org/w/index.php?search=norman+birkett\n",
      "https://en.wikipedia.org/w/index.php?search=alec+bourne\n",
      "https://en.wikipedia.org/w/index.php?search=back+street+surgery\n",
      "https://en.wikipedia.org/w/index.php?search=eustace+chesser\n",
      "https://en.wikipedia.org/w/index.php?search=ociety+and+abortion\n",
      "https://en.wikipedia.org/w/index.php?search=the+fallen+sparrow\n",
      "https://en.wikipedia.org/w/index.php?search=gateway+theatre+club\n",
      "https://en.wikipedia.org/w/index.php?search=joseph+reeves\n",
      "https://en.wikipedia.org/w/index.php?search=house+of+lords\n",
      "https://en.wikipedia.org/w/index.php?search=kenneth+robinson\n",
      "https://en.wikipedia.org/w/index.php?search=house+of+commons\n",
      "https://en.wikipedia.org/w/index.php?search=lena+jeger\n",
      "https://en.wikipedia.org/w/index.php?search=douglas+houghton\n",
      "https://en.wikipedia.org/w/index.php?search=glanville+williams\n",
      "https://en.wikipedia.org/w/index.php?search=the+sanctity+of+life\n",
      "https://en.wikipedia.org/w/index.php?search=the+criminal+law\n",
      "https://en.wikipedia.org/w/index.php?search=alice+jenkins\n",
      "https://en.wikipedia.org/w/index.php?search=law+for+the+rich+published\n",
      "https://en.wikipedia.org/w/index.php?search=k+robinson\n",
      "https://en.wikipedia.org/w/index.php?search=commons+and+lords\n",
      "https://en.wikipedia.org/w/index.php?search=formation+of+birmingham\n",
      "https://en.wikipedia.org/w/index.php?search=northwest+london\n",
      "https://en.wikipedia.org/w/index.php?search=bristol+groups\n",
      "https://en.wikipedia.org/w/index.php?search=manchester+group\n",
      "https://en.wikipedia.org/w/index.php?search=survey+of+london\n",
      "https://en.wikipedia.org/w/index.php?search=northwest+london+group\n",
      "https://en.wikipedia.org/w/index.php?search=labour+government\n",
      "https://en.wikipedia.org/w/index.php?search=gerald+gardiner+qc\n",
      "https://en.wikipedia.org/w/index.php?search=birmingham+group\n",
      "https://en.wikipedia.org/w/index.php?search=frank+soskice\n",
      "https://en.wikipedia.org/w/index.php?search=cumberland+doctors\n",
      "https://en.wikipedia.org/w/index.php?search=south+east+london+group\n",
      "https://en.wikipedia.org/w/index.php?search=renee+short\n",
      "https://en.wikipedia.org/w/index.php?search=david+kerr\n",
      "https://en.wikipedia.org/w/index.php?search=publication+of+abortion\n",
      "https://en.wikipedia.org/w/index.php?search=an+ethical+discussion\n",
      "https://en.wikipedia.org/w/index.php?search=the+church+assembly\n",
      "https://en.wikipedia.org/w/index.php?search=board+for+social+responsibility\n",
      "https://en.wikipedia.org/w/index.php?search=renee+short\n",
      "https://en.wikipedia.org/w/index.php?search=rule+bill\n",
      "https://en.wikipedia.org/w/index.php?search=national+opinion+poll+1966\n",
      "https://en.wikipedia.org/w/index.php?search=simon+wingfield+digby\n",
      "https://en.wikipedia.org/w/index.php?search=joint+report\n",
      "https://en.wikipedia.org/w/index.php?search=south+east+london+group+clergymen+survey\n",
      "https://en.wikipedia.org/w/index.php?search=david+steel\n",
      "https://en.wikipedia.org/w/index.php?search=home+office\n",
      "https://en.wikipedia.org/w/index.php?search=paul+ferris\n",
      "https://en.wikipedia.org/w/index.php?search=house+of+lords\n",
      "https://en.wikipedia.org/w/index.php?search=royal+assent\n",
      "https://en.wikipedia.org/w/index.php?search=apr+abortion+act\n",
      "https://en.wikipedia.org/w/index.php?search=norman+st+john+stevas\n",
      "https://en.wikipedia.org/w/index.php?search=godman+irvine\n",
      "https://en.wikipedia.org/w/index.php?search=rcog+enquiry\n",
      "https://en.wikipedia.org/w/index.php?search=the+abortion+act\n",
      "https://en.wikipedia.org/w/index.php?search=working+party\n",
      "https://en.wikipedia.org/w/index.php?search=unplanned+pregnancy\n",
      "https://en.wikipedia.org/w/index.php?search=committee+on+the+working+of+the+abortion+act+lane+committee\n",
      "https://en.wikipedia.org/w/index.php?search=babies+for+burning\n",
      "https://en.wikipedia.org/w/index.php?search=james+white\n",
      "https://en.wikipedia.org/w/index.php?search=select+committee+on+abortion\n",
      "https://en.wikipedia.org/w/index.php?search=benyon+abortion+amendment\n",
      "https://en.wikipedia.org/w/index.php?search=john+corrie+abortion\n",
      "https://en.wikipedia.org/w/index.php?search=david+alton\n",
      "https://en.wikipedia.org/w/index.php?search=minute+rule+abortion+amendment\n",
      "https://en.wikipedia.org/w/index.php?search=david+alton\n",
      "https://en.wikipedia.org/w/index.php?search=human+fertilisation+and+embryology+bill\n",
      "https://en.wikipedia.org/w/index.php?search=the+national+abortion+campaign\n"
     ]
    }
   ],
   "source": [
    "for ent in doc.ents:\n",
    "    if ent.label_ in ent_types and len(ent.text.split()) > 1:\n",
    "        words = ent.text.lower().split()\n",
    "        words = [word.replace(\"'s\", '') for word in words]\n",
    "        words = [word.translate(str.maketrans('', '', punctuation)) \n",
    "                 for word in words]\n",
    "\n",
    "        print('https://en.wikipedia.org/w/index.php?search=' + \n",
    "              '+'.join(words))"
   ]
  },
  {
   "cell_type": "markdown",
   "metadata": {},
   "source": [
    "Wikipedia's search URLs are great. If wikipedia spots that the search returns a unique result, the user is seamlessly redirected to that result's page. If multiple results are close to the search string, a disambiguation page is returned. If the search is rubbish, the raw search page is returned with a typical list of search results. Try a few of the links above and see which kinds of search work better than others.  \n",
    "We'll now follow the same process as above and dump each link (wrapped with a little HTML) into a dictionary, keyed by their original plaintext strings."
   ]
  },
  {
   "cell_type": "code",
   "execution_count": 8,
   "metadata": {},
   "outputs": [],
   "source": [
    "links = {}\n",
    "\n",
    "for ent in doc.ents:\n",
    "    if ent.label_ in ent_types and len(ent.text.split()) > 1:\n",
    "        words = ent.text.lower().split()\n",
    "        words = [word.translate(str.maketrans('', '', punctuation)) \n",
    "                 for word in words]\n",
    "        url = ('https://en.wikipedia.org/w/index.php?search=' + \n",
    "                '+'.join(words))\n",
    "        link = '<a href=\"{}\">{}</a>'.format(url, ent.text.strip())\n",
    "        links[ent.text.strip()] = link"
   ]
  },
  {
   "cell_type": "markdown",
   "metadata": {},
   "source": [
    "We can now perform a super basic regex replacement. We're looking for the original plaintext strings which were recognised as relevant named entities, and replacing them with HTML links to the wikipedia searches. If the search is decent, the reader will be pointed straight to a page of additional contextual information, deepening their understanding of the subject matter much faster than the arduous archive traversal process described above."
   ]
  },
  {
   "cell_type": "code",
   "execution_count": 9,
   "metadata": {},
   "outputs": [
    {
     "data": {
      "text/html": [
       "<p><a href=\"https://en.wikipedia.org/w/index.php?search=the+abortion+law+reform+association\">The Abortion Law Reform Association</a> (ALRA) was founded in 1935 for the legalisation of abortion in certain circumstances.  This was achieved by <a href=\"https://en.wikipedia.org/w/index.php?search=the+1967+abortion+act\">the 1967 Abortion Act</a>: the Association continues to combat attempts to restrict the availability of legal abortions and to ensure that the intentions of the Act are being carried out.\n",
       "<p>An outline chronology follows, giving significant dates in the history of abortion law in <a href=\"https://en.wikipedia.org/w/index.php?search=the+united+kingdom\">the United Kingdom</a> and of the ALRA:\n",
       "<p>1803                         Lord Ellenborough's Act criminalises the procurement of abortion, previously permissable up to 'quickening'\n",
       "<p>1861\t\tLegislation pertaining to abortion consolidated in <a href=\"https://en.wikipedia.org/w/index.php?search=the+offences+against+the+person+act\">the Offences Against the Person Act</a>\n",
       "<p>1929\t\tInfant Life (Preservation) Act provides for abortion when carrying the pregnancy to term would be fatal\n",
       "<p>1931-1932   \t<a href=\"https://en.wikipedia.org/w/index.php?search=justice+mccardies\">Justice McCardie's</a> remarks during abortion cases at Leeds Assizes receive widespread press attention\n",
       "<p>1934\t\t<a href=\"https://en.wikipedia.org/w/index.php?search=cooperative+womens+guild\">Cooperative Women's Guild</a> pass a resolution in favour of legalisation of abortion at their Annual Meeting\n",
       "<p>1934\t\t<a href=\"https://en.wikipedia.org/w/index.php?search=british+medical+association+committee\">British Medical Association Committee</a> on <a href=\"https://en.wikipedia.org/w/index.php?search=the+medical+aspects+of+abortion\">the Medical Aspects of Abortion</a> set up (reports 1936)\n",
       "<p>1936\t\t<i>Abortion: Three Views</i> by <a href=\"https://en.wikipedia.org/w/index.php?search=stella+browne\">Stella Browne</a>, <a href=\"https://en.wikipedia.org/w/index.php?search=harry+roberts\">Harry Roberts</a> and <a href=\"https://en.wikipedia.org/w/index.php?search=a+ludovici\">A Ludovici</a> published\n",
       "<p>1936\t\t<a href=\"https://en.wikipedia.org/w/index.php?search=foundation+of+abortion+law+reform+association\">Foundation of Abortion Law Reform Association</a> (ALRA)\n",
       "<p>1936-1937   \t<a href=\"https://en.wikipedia.org/w/index.php?search=joint+committee\">Joint Committee</a> of <a href=\"https://en.wikipedia.org/w/index.php?search=midwifery+induced+abortion+survey\">Midwifery Induced Abortion Survey</a>\n",
       "<p>1937\t\t<a href=\"https://en.wikipedia.org/w/index.php?search=interdepartmental+committee+on+abortion\">Interdepartmental Committee on Abortion</a> set up under chairmanship of Mr <a href=\"https://en.wikipedia.org/w/index.php?search=norman+birkett\">Norman Birkett</a> (reported 1939)\n",
       "<p>1938\t\t<a href=\"https://en.wikipedia.org/w/index.php?search=alec+bourne\">Alec Bourne</a> tried for performing abortion on 14-year-old girl gang-raped by soldiers; Mr Justice Macnaghten's ruling establishes common law precedent for abortion on\n",
       "                                        psychiatric grounds \n",
       "<p>1944\t\tInformal ALRA meeting to decided post-war policy\n",
       "<p>1947\t\tPublication of <i><a href=\"https://en.wikipedia.org/w/index.php?search=back+street+surgery\">Back Street Surgery</a></i>\n",
       "<p>1948\t\tBergmann and Ferguson case: doctor's good faith rather than correctness of diagnosis ruled to be the issue\n",
       "<p>1949\t\tDr <a href=\"https://en.wikipedia.org/w/index.php?search=eustace+chessers\">Eustace Chesser's</a> lecture on 'Society and Abortion'\n",
       "<p>1950\t\tChesser pamphlet distributed\n",
       "<p>1950\t\t<i><a href=\"https://en.wikipedia.org/w/index.php?search=the+fallen+sparrow\">The Fallen Sparrow</a></i>, play on abortion, produced at <a href=\"https://en.wikipedia.org/w/index.php?search=gateway+theatre+club\">Gateway Theatre Club</a>\n",
       "<p>1950\t\tEnquirer's leaflet drafted\n",
       "<p>1952\t\tJoseph Reeves' Private Member's Bill talked out\n",
       "<p>1954\t\tLord Amulree's Bill introduced in <a href=\"https://en.wikipedia.org/w/index.php?search=house+of+lords\">House of Lords</a>, withdrawn before Second Reading\n",
       "<p>1956\t             <a href=\"https://en.wikipedia.org/w/index.php?search=kenneth+robinson\">Kenneth Robinson</a> asks question in <a href=\"https://en.wikipedia.org/w/index.php?search=house+of+commons\">House of Commons</a>\n",
       "<p>1957\t             Parliamentary questions from <a href=\"https://en.wikipedia.org/w/index.php?search=lena+jeger\">Lena Jeger</a> and <a href=\"https://en.wikipedia.org/w/index.php?search=douglas+houghton\">Douglas Houghton</a> \n",
       "<p>1958\t\tNewton and Stungo case leads to re-emphasis of psychiatric health as grounds for abortion\n",
       "<p>1958\t             Publication of <a href=\"https://en.wikipedia.org/w/index.php?search=glanville+williams\">Glanville Williams</a> <i><a href=\"https://en.wikipedia.org/w/index.php?search=the+sanctity+of+life\">The Sanctity of Life</a> and <a href=\"https://en.wikipedia.org/w/index.php?search=the+criminal+law\">the Criminal Law</a></i>\n",
       "<p>1960\t\tAlice Jenkins' <i>Law for the Rich</i> published\n",
       "<p>1961\t\t<a href=\"https://en.wikipedia.org/w/index.php?search=k+robinsons\">K Robinson's</a> Bill talked out in Parliament\n",
       "<p>1961\t\tThalidomide disaster\n",
       "<p>1962\t\tParliamentary Questions in <a href=\"https://en.wikipedia.org/w/index.php?search=commons+and+lords\">Commons and Lords</a> as to whether mothers who had taken thalidomide eligible for abortions. \n",
       "<p>1962\t\t<a href=\"https://en.wikipedia.org/w/index.php?search=formation+of+birmingham\">Formation of Birmingham</a> ALRA Group\n",
       "<p>1963\t\t<a href=\"https://en.wikipedia.org/w/index.php?search=northwest+london\">North-west London</a> and <a href=\"https://en.wikipedia.org/w/index.php?search=bristol+groups\">Bristol Groups</a> formed\n",
       "<p>1963\t\tDoctors' Survey\n",
       "<p>1964\t\t<a href=\"https://en.wikipedia.org/w/index.php?search=manchester+group\">Manchester Group</a> formed\n",
       "<p>1964\t             First ALRA attempt to enlist large-scale Parliamentary support\n",
       "<p>1964\t             <a href=\"https://en.wikipedia.org/w/index.php?search=survey+of+london\">Survey of London</a> GPs by <a href=\"https://en.wikipedia.org/w/index.php?search=northwest+london\">North-west London</a> Group (published 1965)\n",
       "<p>1964\t             Return of a <a href=\"https://en.wikipedia.org/w/index.php?search=labour+government\">Labour Government</a>: <a href=\"https://en.wikipedia.org/w/index.php?search=gerald+gardiner+qc\">Gerald Gardiner QC</a>, a longstanding adviser to ALRA, as Lord Chancellor\n",
       "<p>1965\t\tAbortifacients survey by <a href=\"https://en.wikipedia.org/w/index.php?search=birmingham+group\">Birmingham Group</a>\n",
       "<p>1965\t\tDeputation to Home Secretary (Sir <a href=\"https://en.wikipedia.org/w/index.php?search=frank+soskice\">Frank Soskice</a>) \n",
       "<p>1965\t\tCumberland Doctors' Survey\n",
       "<p>1965\t             <a href=\"https://en.wikipedia.org/w/index.php?search=south+east+london+group\">South East London Group</a> formed\n",
       "<p>1965\t\t<a href=\"https://en.wikipedia.org/w/index.php?search=renee+short\">Renee Short</a> and <a href=\"https://en.wikipedia.org/w/index.php?search=david+kerr\">David Kerr</a> questions in Commons\n",
       "<p>1965\t\tPublication of <i>Abortion: <a href=\"https://en.wikipedia.org/w/index.php?search=an+ethical+discussion\">An Ethical Discussion</a></i>, report of <a href=\"https://en.wikipedia.org/w/index.php?search=the+church+assemblys\">the Church Assembly's</a> <a href=\"https://en.wikipedia.org/w/index.php?search=board+for+social+responsibility\">Board for Social Responsibility</a>\n",
       "<p>1965\t\tRC MP talks out <a href=\"https://en.wikipedia.org/w/index.php?search=renee+short\">Renee Short</a>'s 10-Minute <a href=\"https://en.wikipedia.org/w/index.php?search=rule+bill\">Rule Bill</a>\n",
       "<p>1965\t\tLord Silkin's first Bill introduced\n",
       "<p>1965\t             National Opinion Poll\n",
       "<p>1966\t\t<a href=\"https://en.wikipedia.org/w/index.php?search=simon+wingfield+digbys\">Simon Wingfield Digby's</a> Bill talked out by RCs\n",
       "<p>1966\t\t<a href=\"https://en.wikipedia.org/w/index.php?search=joint+report\">Joint Report</a> by BMA and RCOG\n",
       "<p>1966\t\t<a href=\"https://en.wikipedia.org/w/index.php?search=south+east+london+group\">South East London Group</a> Clergymen's Survey\n",
       "<p>1966\t\tLord Silkin's second Bill introduced\n",
       "<p>1966\t\t<a href=\"https://en.wikipedia.org/w/index.php?search=david+steel\">David Steel</a> successful in private members' ballot and agrees to sponsor Bill on abortion\n",
       "<p>1966\t\tGovernment allocates time for debates and <a href=\"https://en.wikipedia.org/w/index.php?search=home+office\">Home Office</a> drafting\n",
       "<p>1966\t\tPublication of <a href=\"https://en.wikipedia.org/w/index.php?search=paul+ferris\">Paul Ferris</a> <i>The Nameless: Abortion in Britain Today</i>\n",
       "<p>1967\t\tSPUC formed to fight Steel Bill\n",
       "<p>1966\t\tNOP medical survey\n",
       "<p>1966\t\tLord Silkin's second Bill passes through <a href=\"https://en.wikipedia.org/w/index.php?search=house+of+lords\">House of Lords</a>\n",
       "<p>1966\t\tSteel Bill passed and receives <a href=\"https://en.wikipedia.org/w/index.php?search=royal+assent\">Royal Assent</a>, October\n",
       "<p>1968 <a href=\"https://en.wikipedia.org/w/index.php?search=apr+abortion+act\">Apr     \tAbortion Act</a> comes into force\n",
       "<p>1969\t\t<a href=\"https://en.wikipedia.org/w/index.php?search=norman+st+john+stevas\">Norman St John Stevas</a> introduces Bill under 10 minute Rule to amend Act\n",
       "<p>1970\t\t<a href=\"https://en.wikipedia.org/w/index.php?search=godman+irvine\">Godman Irvine</a> attempts to introduce a private member's Bill to amend Act\n",
       "<p>1970\t\tLIFE set up to campaign against Act\n",
       "<p>1970-1971    \t<a href=\"https://en.wikipedia.org/w/index.php?search=rcog+enquiry\">RCOG Enquiry</a> into First Year of <a href=\"https://en.wikipedia.org/w/index.php?search=the+abortion+act\">the Abortion Act</a>, <a href=\"https://en.wikipedia.org/w/index.php?search=working+party\">Working Party</a> on <a href=\"https://en.wikipedia.org/w/index.php?search=unplanned+pregnancy\">Unplanned Pregnancy</a>\n",
       "<p>1971-1974    \tCommittee on the Working of <a href=\"https://en.wikipedia.org/w/index.php?search=the+abortion+act\">the Abortion Act</a> (Lane Committee)\n",
       "<p>1974\t\tBirth control becomes free under the NHS\n",
       "<p>1974\t\t<i><a href=\"https://en.wikipedia.org/w/index.php?search=babies+for+burning\">Babies for Burning</a></i> published\n",
       "<p>1975\t\t<a href=\"https://en.wikipedia.org/w/index.php?search=james+white\">James White</a> Abortion (Amendment) Bill\n",
       "<p>1975\t\t<i><a href=\"https://en.wikipedia.org/w/index.php?search=babies+for+burning\">Babies for Burning</a></i> discredited by <i>Sunday Times</i> investigation\n",
       "<p>1975-1980     \t<a href=\"https://en.wikipedia.org/w/index.php?search=select+committee+on+abortion\">Select Committee on Abortion</a>\n",
       "<p>1977\t\t<a href=\"https://en.wikipedia.org/w/index.php?search=benyon+abortion+amendment\">Benyon Abortion Amendment</a> Bill\n",
       "<p>1978\t\tBraine 10 <a href=\"https://en.wikipedia.org/w/index.php?search=minute+rule+abortion+amendment\">Minute Rule Abortion Amendment</a> Bill\n",
       "<p>1979-1980    \t<a href=\"https://en.wikipedia.org/w/index.php?search=john+corrie+abortion\">John Corrie Abortion</a> (Amendment) Bill\n",
       "<p>1980\t\t<a href=\"https://en.wikipedia.org/w/index.php?search=david+alton\">David Alton</a> 10 <a href=\"https://en.wikipedia.org/w/index.php?search=minute+rule+abortion+amendment\">Minute Rule Abortion Amendment</a> Bill\n",
       "<p>1988\t\t<a href=\"https://en.wikipedia.org/w/index.php?search=david+alton\">David Alton</a> Abortion (Amendment) Bill\n",
       "<p>1990\t\tAttempt to restrict abortion through a clause in <a href=\"https://en.wikipedia.org/w/index.php?search=human+fertilisation+and+embryology+bill\">Human Fertilisation and Embryology Bill</a>; vote fixes limit at 24 weeks, with no limit in cases of severe fetal abnormality or\n",
       "                                        permanent injury to mother's health\n",
       "<p>1991\t\tMifepristone (RU-486), abortion drug, licensed for use by registered medical practitioners in authorised hospitals and clinics\n",
       "<p>1992\t\tAttempts by American anti-abortion extremists to picket clinics, etc, in UK\n",
       "<p>2003\t\tALRA merges with <a href=\"https://en.wikipedia.org/w/index.php?search=the+national+abortion+campaign\">the National Abortion Campaign</a> to form Abortion Rights</p></p></p></p></p></p></p></p></p></p></p></p></p></p></p></p></p></p></p></p></p></p></p></p></p></p></p></p></p></p></p></p></p></p></p></p></p></p></p></p></p></p></p></p></p></p></p></p></p></p></p></p></p></p></p></p></p></p></p></p></p></p></p></p></p></p></p></p></p></p></p></p></p></p></p></p></p>"
      ],
      "text/plain": [
       "<IPython.core.display.HTML object>"
      ]
     },
     "metadata": {},
     "output_type": "display_data"
    }
   ],
   "source": [
    "pattern = re.compile(r'\\b(' + '|'.join(links.keys()) + r')\\b')\n",
    "result = pattern.sub(lambda x: links[x.group()], str(soup))\n",
    "\n",
    "display(HTML(result))"
   ]
  },
  {
   "cell_type": "markdown",
   "metadata": {},
   "source": [
    "Admittedly this process is still far from perfect, and the flaws start to appear as soon as you click more than a few basic links... Spacy's NER algorithm is okay at best, and the wikipedia search only works well when it's provided with a clean, unambiguous string. There's a lot to improve here, and we can be much smarter about the way we make use of wikidata (see notebooks to follow), but for the work of an hour on a Monday afternoon, this isn't bad..."
   ]
  }
 ],
 "metadata": {
  "kernelspec": {
   "display_name": "Python 3",
   "language": "python",
   "name": "python3"
  },
  "language_info": {
   "codemirror_mode": {
    "name": "ipython",
    "version": 3
   },
   "file_extension": ".py",
   "mimetype": "text/x-python",
   "name": "python",
   "nbconvert_exporter": "python",
   "pygments_lexer": "ipython3",
   "version": "3.6.4"
  }
 },
 "nbformat": 4,
 "nbformat_minor": 2
}
