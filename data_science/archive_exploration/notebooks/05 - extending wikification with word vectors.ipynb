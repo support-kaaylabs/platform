{
 "cells": [
  {
   "cell_type": "code",
   "execution_count": 106,
   "metadata": {},
   "outputs": [],
   "source": [
    "%matplotlib inline\n",
    "import matplotlib.pyplot as plt\n",
    "import seaborn as sns\n",
    "sns.set_style('white')\n",
    "plt.rcParams['figure.figsize'] = (30, 30)\n",
    "\n",
    "import wikipedia\n",
    "\n",
    "import re\n",
    "import spacy\n",
    "from bs4 import BeautifulSoup\n",
    "from IPython.core.display import display, HTML\n",
    "\n",
    "import numpy as np\n",
    "import pandas as pd\n",
    "import networkx as nx\n",
    "\n",
    "from umap import UMAP\n",
    "from sklearn.cluster import KMeans, AgglomerativeClustering\n",
    "from scipy.spatial.distance import cosine\n",
    "\n",
    "from tqdm import tqdm_notebook as tqdm"
   ]
  },
  {
   "cell_type": "code",
   "execution_count": 79,
   "metadata": {},
   "outputs": [],
   "source": [
    "nlp = spacy.load('en')"
   ]
  },
  {
   "cell_type": "code",
   "execution_count": null,
   "metadata": {},
   "outputs": [],
   "source": [
    "df = pd.read_json('../data/calm_records.json')"
   ]
  },
  {
   "cell_type": "markdown",
   "metadata": {},
   "source": [
    "### get average word vector for our collection-level record"
   ]
  },
  {
   "cell_type": "code",
   "execution_count": null,
   "metadata": {},
   "outputs": [],
   "source": [
    "record = df.loc[269229]['AdminHistory'][0]\n",
    "soup = BeautifulSoup(record, 'html.parser')\n",
    "plain_text = soup.get_text()\n",
    "plain_text = ' '.join(plain_text.split())\n",
    "\n",
    "\n",
    "print(plain_text)"
   ]
  },
  {
   "cell_type": "code",
   "execution_count": null,
   "metadata": {},
   "outputs": [],
   "source": [
    "doc = nlp(plain_text)\n",
    "doc_avg_wv = np.array([word.vector for word in doc]).mean(axis=0)"
   ]
  },
  {
   "cell_type": "markdown",
   "metadata": {},
   "source": [
    "### get average word vector for a specific, known wikipedia page"
   ]
  },
  {
   "cell_type": "code",
   "execution_count": null,
   "metadata": {},
   "outputs": [],
   "source": [
    "h = wikipedia.page('Hinge_loss')\n",
    "doc = nlp(h.content)\n",
    "np.array([word.vector for word in doc]).mean(axis=0).shape"
   ]
  },
  {
   "cell_type": "code",
   "execution_count": null,
   "metadata": {},
   "outputs": [],
   "source": [
    "known_page = nlp(wikipedia.page('dog').content)\n",
    "known_avg_wv = np.array([word.vector for word in known_page]).mean(axis=0)"
   ]
  },
  {
   "cell_type": "markdown",
   "metadata": {},
   "source": [
    "### get average word vectors for all pages in wikipedia search "
   ]
  },
  {
   "cell_type": "code",
   "execution_count": null,
   "metadata": {},
   "outputs": [],
   "source": [
    "wikipedia.search('pool')"
   ]
  },
  {
   "cell_type": "code",
   "execution_count": null,
   "metadata": {},
   "outputs": [],
   "source": [
    "possible_avg_wvs = pd.Series()\n",
    "possible_page_titles = [title for title in wikipedia.search('chicken')\n",
    "                        if 'disambiguation' not in title]\n",
    "print(possible_page_titles)"
   ]
  },
  {
   "cell_type": "code",
   "execution_count": 48,
   "metadata": {},
   "outputs": [],
   "source": [
    "def get_pages(page_name):\n",
    "    pages = []\n",
    "    try:\n",
    "        wikipedia.page(page_name).url\n",
    "        # we're just hitting the url to check for disambiguation errors\n",
    "        pages.append(page_name)\n",
    "    except wikipedia.exceptions.DisambiguationError as disambiguation:\n",
    "        for option in disambiguation.options:\n",
    "            # Note that we're only going one level deep into disambiguations.\n",
    "            # This should be more than enough for our purposes, and it's easy\n",
    "            # to get caught in horrible, endless loops and branches if we make\n",
    "            # this properly recursive.\n",
    "            try: \n",
    "                wikipedia.page(option).url\n",
    "                pages.append(option)\n",
    "            except wikipedia.exceptions.DisambiguationError: pass\n",
    "    return pages"
   ]
  },
  {
   "cell_type": "code",
   "execution_count": null,
   "metadata": {},
   "outputs": [],
   "source": [
    "def flatten(list_of_lists):\n",
    "    return [j for i in list_of_lists for j in i]"
   ]
  },
  {
   "cell_type": "code",
   "execution_count": null,
   "metadata": {},
   "outputs": [],
   "source": [
    "all_page_names = np.unique(flatten([get_pages(page_name) \n",
    "                                    for page_name in possible_page_titles]))"
   ]
  },
  {
   "cell_type": "code",
   "execution_count": null,
   "metadata": {},
   "outputs": [],
   "source": [
    "known_page = nlp(wikipedia.page('dog').summary)\n",
    "known_avg_wv = np.array([word.vector for word in known_page]).mean(axis=0)"
   ]
  },
  {
   "cell_type": "code",
   "execution_count": null,
   "metadata": {},
   "outputs": [],
   "source": [
    "candidate_wvs = pd.Series({page_name: (np.array([word.vector for word in \n",
    "                                                 nlp(wikipedia.page(page_name).content)])\n",
    "                                       .mean(axis=0))\n",
    "                           for page_name in tqdm(all_page_names)})"
   ]
  },
  {
   "cell_type": "markdown",
   "metadata": {},
   "source": [
    "in our example we have a load of text about swimming, and we want to figure out which version of the page 'pool' is most relevant"
   ]
  },
  {
   "cell_type": "code",
   "execution_count": null,
   "metadata": {
    "scrolled": false
   },
   "outputs": [],
   "source": [
    "df = candidate_wvs.to_frame('word vector')\n",
    "\n",
    "df['similarity'] = df['word vector'].apply(lambda avg_wv: cosine(avg_wv, known_avg_wv))\n",
    "df.sort_values(by='similarity')"
   ]
  },
  {
   "cell_type": "code",
   "execution_count": null,
   "metadata": {},
   "outputs": [],
   "source": [
    "wikipedia.page('Chicken wings as food').url"
   ]
  },
  {
   "cell_type": "code",
   "execution_count": null,
   "metadata": {},
   "outputs": [],
   "source": [
    "for ent in nlp(plain_text).ents:\n",
    "    print(ent)"
   ]
  },
  {
   "cell_type": "code",
   "execution_count": null,
   "metadata": {},
   "outputs": [],
   "source": [
    "all_page_names = np.unique(flatten([get_pages(page_name) \n",
    "                                    for page_name in wikipedia.search(str(nlp(plain_text).ents[0]))]))\n",
    "\n",
    "candidate_wvs = pd.Series({page_name: (np.array([word.vector for word in \n",
    "                                                 nlp(wikipedia.page(page_name).content)])\n",
    "                                       .mean(axis=0))\n",
    "                           for page_name in tqdm(all_page_names)})"
   ]
  },
  {
   "cell_type": "code",
   "execution_count": null,
   "metadata": {},
   "outputs": [],
   "source": [
    "df = candidate_wvs.to_frame('word vector')\n",
    "\n",
    "df['similarity'] = df['word vector'].apply(lambda avg_wv: cosine(avg_wv, doc_avg_wv))\n",
    "df.sort_values(by='similarity')"
   ]
  },
  {
   "cell_type": "code",
   "execution_count": null,
   "metadata": {},
   "outputs": [],
   "source": []
  },
  {
   "cell_type": "code",
   "execution_count": null,
   "metadata": {},
   "outputs": [],
   "source": []
  },
  {
   "cell_type": "code",
   "execution_count": null,
   "metadata": {},
   "outputs": [],
   "source": []
  },
  {
   "cell_type": "code",
   "execution_count": null,
   "metadata": {},
   "outputs": [],
   "source": [
    "wikipedia.search('dog')"
   ]
  },
  {
   "cell_type": "code",
   "execution_count": null,
   "metadata": {},
   "outputs": [],
   "source": [
    "string_2 = wikipedia.page('chicken').summary"
   ]
  },
  {
   "cell_type": "code",
   "execution_count": null,
   "metadata": {},
   "outputs": [],
   "source": []
  },
  {
   "cell_type": "code",
   "execution_count": null,
   "metadata": {},
   "outputs": [],
   "source": []
  },
  {
   "cell_type": "markdown",
   "metadata": {},
   "source": [
    "# try (ratio'd) set intersection of words"
   ]
  },
  {
   "cell_type": "markdown",
   "metadata": {},
   "source": [
    "# try tfidf"
   ]
  },
  {
   "cell_type": "markdown",
   "metadata": {},
   "source": [
    "# try glove"
   ]
  },
  {
   "cell_type": "code",
   "execution_count": 62,
   "metadata": {},
   "outputs": [
    {
     "data": {
      "application/vnd.jupyter.widget-view+json": {
       "model_id": "492fdcce56a84789a4a3627df819c549",
       "version_major": 2,
       "version_minor": 0
      },
      "text/html": [
       "<p>Failed to display Jupyter Widget of type <code>HBox</code>.</p>\n",
       "<p>\n",
       "  If you're reading this message in the Jupyter Notebook or JupyterLab Notebook, it may mean\n",
       "  that the widgets JavaScript is still loading. If this message persists, it\n",
       "  likely means that the widgets JavaScript library is either not installed or\n",
       "  not enabled. See the <a href=\"https://ipywidgets.readthedocs.io/en/stable/user_install.html\">Jupyter\n",
       "  Widgets Documentation</a> for setup instructions.\n",
       "</p>\n",
       "<p>\n",
       "  If you're reading this message in another frontend (for example, a static\n",
       "  rendering on GitHub or <a href=\"https://nbviewer.jupyter.org/\">NBViewer</a>),\n",
       "  it may mean that your frontend doesn't currently support widgets.\n",
       "</p>\n"
      ],
      "text/plain": [
       "HBox(children=(IntProgress(value=0, max=400002), HTML(value='')))"
      ]
     },
     "metadata": {},
     "output_type": "display_data"
    }
   ],
   "source": [
    "with open('/Users/pimh/Downloads/glove.6B/glove.6B.300d.txt') as f:\n",
    "    glove = {}\n",
    "    for line in tqdm(f.read().split('\\n')):\n",
    "        try:\n",
    "            line = line.split()\n",
    "            id = line[0]\n",
    "            wv = np.array(line[1:]).astype(np.float32)\n",
    "            glove[id] = wv\n",
    "        except: pass"
   ]
  },
  {
   "cell_type": "code",
   "execution_count": 63,
   "metadata": {},
   "outputs": [
    {
     "data": {
      "text/plain": [
       "'Swimming is the self-propulsion of a person through fresh or salt water, usually for recreation, sport, exercise, or survival. Locomotion is achieved through coordinated movement of the limbs, the body, or both. Humans can hold their breath underwater and undertake rudimentary locomotive swimming within weeks of birth, as an evolutionary response.\\nSwimming is consistently among top public recreational activities, and in some countries, swimming lessons are a compulsory part of the educational curriculum. As a formalized sport, swimming features in a range of local, national, and international competitions, including every modern Summer Olympics.'"
      ]
     },
     "execution_count": 63,
     "metadata": {},
     "output_type": "execute_result"
    }
   ],
   "source": [
    "wikipedia.page('swimming').summary"
   ]
  },
  {
   "cell_type": "code",
   "execution_count": 125,
   "metadata": {
    "scrolled": true
   },
   "outputs": [
    {
     "name": "stderr",
     "output_type": "stream",
     "text": [
      "/Users/pimh/anaconda3/lib/python3.6/site-packages/bs4/__init__.py:181: UserWarning: No parser was explicitly specified, so I'm using the best available HTML parser for this system (\"lxml\"). This usually isn't a problem, but if you run this code on another system, or in a different virtual environment, it may use a different parser and behave differently.\n",
      "\n",
      "The code that caused this warning is on line 193 of the file /Users/pimh/anaconda3/lib/python3.6/runpy.py. To get rid of this warning, change code that looks like this:\n",
      "\n",
      " BeautifulSoup(YOUR_MARKUP})\n",
      "\n",
      "to this:\n",
      "\n",
      " BeautifulSoup(YOUR_MARKUP, \"lxml\")\n",
      "\n",
      "  markup_type=markup_type))\n"
     ]
    },
    {
     "data": {
      "application/vnd.jupyter.widget-view+json": {
       "model_id": "d187a60b759842a2bb01294f9011f76d",
       "version_major": 2,
       "version_minor": 0
      },
      "text/html": [
       "<p>Failed to display Jupyter Widget of type <code>HBox</code>.</p>\n",
       "<p>\n",
       "  If you're reading this message in the Jupyter Notebook or JupyterLab Notebook, it may mean\n",
       "  that the widgets JavaScript is still loading. If this message persists, it\n",
       "  likely means that the widgets JavaScript library is either not installed or\n",
       "  not enabled. See the <a href=\"https://ipywidgets.readthedocs.io/en/stable/user_install.html\">Jupyter\n",
       "  Widgets Documentation</a> for setup instructions.\n",
       "</p>\n",
       "<p>\n",
       "  If you're reading this message in another frontend (for example, a static\n",
       "  rendering on GitHub or <a href=\"https://nbviewer.jupyter.org/\">NBViewer</a>),\n",
       "  it may mean that your frontend doesn't currently support widgets.\n",
       "</p>\n"
      ],
      "text/plain": [
       "HBox(children=(IntProgress(value=0, max=49), HTML(value='')))"
      ]
     },
     "metadata": {},
     "output_type": "display_data"
    }
   ],
   "source": [
    "candidate_page_summaries = pd.Series({page: wikipedia.page(page).content.lower()\n",
    "                                      for page in tqdm(get_pages('amazon'))})"
   ]
  },
  {
   "cell_type": "code",
   "execution_count": 126,
   "metadata": {},
   "outputs": [],
   "source": [
    "known_summary = wikipedia.page('rainforest').content.lower()\n",
    "known_wv = get_doc_vector(known_summary)"
   ]
  },
  {
   "cell_type": "code",
   "execution_count": 127,
   "metadata": {},
   "outputs": [],
   "source": [
    "def get_doc_vector(input_text):\n",
    "    return np.stack([glove[str(word)] for word in nlp(input_text)\n",
    "                     if str(word) in glove.keys()]).mean(axis=0)"
   ]
  },
  {
   "cell_type": "code",
   "execution_count": 128,
   "metadata": {},
   "outputs": [],
   "source": [
    "frame = candidate_page_summaries.apply(get_doc_vector).to_frame('wv')"
   ]
  },
  {
   "cell_type": "code",
   "execution_count": 129,
   "metadata": {},
   "outputs": [],
   "source": [
    "frame['similarity'] = frame['wv'].apply(lambda x: cosine(x, known_wv))"
   ]
  },
  {
   "cell_type": "code",
   "execution_count": 130,
   "metadata": {},
   "outputs": [
    {
     "data": {
      "text/html": [
       "<div>\n",
       "<style scoped>\n",
       "    .dataframe tbody tr th:only-of-type {\n",
       "        vertical-align: middle;\n",
       "    }\n",
       "\n",
       "    .dataframe tbody tr th {\n",
       "        vertical-align: top;\n",
       "    }\n",
       "\n",
       "    .dataframe thead th {\n",
       "        text-align: right;\n",
       "    }\n",
       "</style>\n",
       "<table border=\"1\" class=\"dataframe\">\n",
       "  <thead>\n",
       "    <tr style=\"text-align: right;\">\n",
       "      <th></th>\n",
       "      <th>wv</th>\n",
       "      <th>similarity</th>\n",
       "    </tr>\n",
       "  </thead>\n",
       "  <tbody>\n",
       "    <tr>\n",
       "      <th>Amazon rainforest</th>\n",
       "      <td>[-0.13217017, 0.09086505, -0.0535981, -0.11312...</td>\n",
       "      <td>0.010135</td>\n",
       "    </tr>\n",
       "    <tr>\n",
       "      <th>Amazon basin</th>\n",
       "      <td>[-0.10516881, 0.11370765, -0.053919222, -0.132...</td>\n",
       "      <td>0.010877</td>\n",
       "    </tr>\n",
       "    <tr>\n",
       "      <th>Amazon Reef</th>\n",
       "      <td>[-0.06606301, 0.10743145, -0.054334152, -0.128...</td>\n",
       "      <td>0.027716</td>\n",
       "    </tr>\n",
       "    <tr>\n",
       "      <th>Amazon River</th>\n",
       "      <td>[-0.1087415, 0.064478986, -0.051910195, -0.137...</td>\n",
       "      <td>0.027809</td>\n",
       "    </tr>\n",
       "    <tr>\n",
       "      <th>Amazonen-Werke</th>\n",
       "      <td>[-0.095847264, 0.10285617, -0.035618577, -0.17...</td>\n",
       "      <td>0.047389</td>\n",
       "    </tr>\n",
       "    <tr>\n",
       "      <th>Diablo II</th>\n",
       "      <td>[-0.117192894, 0.124908805, -0.013397733, -0.1...</td>\n",
       "      <td>0.048475</td>\n",
       "    </tr>\n",
       "    <tr>\n",
       "      <th>Takembeng</th>\n",
       "      <td>[-0.095976144, 0.066766486, -0.008813564, -0.1...</td>\n",
       "      <td>0.050255</td>\n",
       "    </tr>\n",
       "    <tr>\n",
       "      <th>Game of the Amazons</th>\n",
       "      <td>[-0.12012394, 0.116951585, -0.026628084, -0.13...</td>\n",
       "      <td>0.051603</td>\n",
       "    </tr>\n",
       "    <tr>\n",
       "      <th>equestrians</th>\n",
       "      <td>[-0.09384323, 0.0854721, 0.009414364, -0.13802...</td>\n",
       "      <td>0.053917</td>\n",
       "    </tr>\n",
       "    <tr>\n",
       "      <th>Amazon Creek</th>\n",
       "      <td>[-0.15647501, -0.009726174, -0.06234486, -0.10...</td>\n",
       "      <td>0.056518</td>\n",
       "    </tr>\n",
       "    <tr>\n",
       "      <th>Amazon (chess)</th>\n",
       "      <td>[-0.14313908, 0.09610371, -0.0067325463, -0.12...</td>\n",
       "      <td>0.056734</td>\n",
       "    </tr>\n",
       "    <tr>\n",
       "      <th>The Amazons (play)</th>\n",
       "      <td>[-0.06299555, 0.055649683, -0.02095333, -0.124...</td>\n",
       "      <td>0.058609</td>\n",
       "    </tr>\n",
       "    <tr>\n",
       "      <th>Amazons!</th>\n",
       "      <td>[-0.06299555, 0.055649683, -0.02095333, -0.124...</td>\n",
       "      <td>0.058609</td>\n",
       "    </tr>\n",
       "    <tr>\n",
       "      <th>Amazons</th>\n",
       "      <td>[-0.06299555, 0.055649683, -0.02095333, -0.124...</td>\n",
       "      <td>0.058609</td>\n",
       "    </tr>\n",
       "    <tr>\n",
       "      <th>Amazon (company)</th>\n",
       "      <td>[-0.10854941, 0.073133774, -0.004222697, -0.09...</td>\n",
       "      <td>0.058929</td>\n",
       "    </tr>\n",
       "    <tr>\n",
       "      <th>Amazons Company</th>\n",
       "      <td>[-0.10854941, 0.073133774, -0.004222697, -0.09...</td>\n",
       "      <td>0.058929</td>\n",
       "    </tr>\n",
       "    <tr>\n",
       "      <th>Amazon parrot</th>\n",
       "      <td>[-0.054128032, 0.10576921, -0.010294474, -0.06...</td>\n",
       "      <td>0.059955</td>\n",
       "    </tr>\n",
       "    <tr>\n",
       "      <th>Swallows and Amazons series</th>\n",
       "      <td>[-0.09094784, 0.05896046, -0.011589762, -0.143...</td>\n",
       "      <td>0.060041</td>\n",
       "    </tr>\n",
       "    <tr>\n",
       "      <th>gladiatrix</th>\n",
       "      <td>[-0.088160574, 0.10087246, 0.013154504, -0.113...</td>\n",
       "      <td>0.063289</td>\n",
       "    </tr>\n",
       "    <tr>\n",
       "      <th>Amazon Bookstore Cooperative</th>\n",
       "      <td>[-0.08441188, 0.067667276, -0.057685655, -0.14...</td>\n",
       "      <td>0.063705</td>\n",
       "    </tr>\n",
       "    <tr>\n",
       "      <th>Amazonka</th>\n",
       "      <td>[-0.027407385, 0.06159004, -0.059341043, -0.11...</td>\n",
       "      <td>0.064149</td>\n",
       "    </tr>\n",
       "    <tr>\n",
       "      <th>Pro Wrestling</th>\n",
       "      <td>[-0.06535231, 0.15357609, 0.037908655, -0.1575...</td>\n",
       "      <td>0.065208</td>\n",
       "    </tr>\n",
       "    <tr>\n",
       "      <th>Amazon (brigantine)</th>\n",
       "      <td>[-0.081765175, 0.027112084, -0.040487673, -0.1...</td>\n",
       "      <td>0.066511</td>\n",
       "    </tr>\n",
       "    <tr>\n",
       "      <th>Dahomey Amazons</th>\n",
       "      <td>[-0.08933207, 0.07661065, 0.0072635342, -0.118...</td>\n",
       "      <td>0.068327</td>\n",
       "    </tr>\n",
       "    <tr>\n",
       "      <th>Amazons (DC Comics)</th>\n",
       "      <td>[-0.06802789, 0.04790574, -0.03356071, -0.1257...</td>\n",
       "      <td>0.068379</td>\n",
       "    </tr>\n",
       "    <tr>\n",
       "      <th>GWR 3031 Class</th>\n",
       "      <td>[-0.065044716, 0.026069958, -0.017931461, -0.1...</td>\n",
       "      <td>0.070676</td>\n",
       "    </tr>\n",
       "    <tr>\n",
       "      <th>GWR Iron Duke Class</th>\n",
       "      <td>[-0.1028568, 0.030732231, -0.03579287, -0.1443...</td>\n",
       "      <td>0.076128</td>\n",
       "    </tr>\n",
       "    <tr>\n",
       "      <th>Volvo Amazon</th>\n",
       "      <td>[-0.060439013, 0.073544726, -0.035604753, -0.1...</td>\n",
       "      <td>0.078079</td>\n",
       "    </tr>\n",
       "    <tr>\n",
       "      <th>Amazon: Guardians of Eden</th>\n",
       "      <td>[-0.056813993, 0.105537154, 0.008526327, -0.12...</td>\n",
       "      <td>0.078711</td>\n",
       "    </tr>\n",
       "    <tr>\n",
       "      <th>Amazon (video game)</th>\n",
       "      <td>[-0.058549535, 0.10586212, 0.0033671837, -0.13...</td>\n",
       "      <td>0.083298</td>\n",
       "    </tr>\n",
       "    <tr>\n",
       "      <th>Amazon (yacht)</th>\n",
       "      <td>[-0.08754492, 0.008528854, -0.039774504, -0.11...</td>\n",
       "      <td>0.086787</td>\n",
       "    </tr>\n",
       "    <tr>\n",
       "      <th>Amazonian Guard</th>\n",
       "      <td>[-0.072592445, 0.10766239, -0.011703923, -0.12...</td>\n",
       "      <td>0.090194</td>\n",
       "    </tr>\n",
       "    <tr>\n",
       "      <th>1042 Amazone</th>\n",
       "      <td>[-0.09487869, 0.046043977, -0.014876564, -0.06...</td>\n",
       "      <td>0.091455</td>\n",
       "    </tr>\n",
       "    <tr>\n",
       "      <th>Amazon Eve</th>\n",
       "      <td>[-0.10137874, 0.089399196, -0.03788314, -0.077...</td>\n",
       "      <td>0.091600</td>\n",
       "    </tr>\n",
       "    <tr>\n",
       "      <th>SMS Amazone</th>\n",
       "      <td>[-0.12159767, 0.027899742, -0.059364714, -0.12...</td>\n",
       "      <td>0.092635</td>\n",
       "    </tr>\n",
       "    <tr>\n",
       "      <th>Man-Killer</th>\n",
       "      <td>[-0.13107562, 0.05832151, 0.019226352, -0.0832...</td>\n",
       "      <td>0.097740</td>\n",
       "    </tr>\n",
       "    <tr>\n",
       "      <th>Amazon (automobile)</th>\n",
       "      <td>[-0.00549197, 0.024771264, -0.016051233, -0.16...</td>\n",
       "      <td>0.098965</td>\n",
       "    </tr>\n",
       "    <tr>\n",
       "      <th>Amazon (1780 ship)</th>\n",
       "      <td>[-0.11199636, -0.032922808, -0.006332163, -0.0...</td>\n",
       "      <td>0.104043</td>\n",
       "    </tr>\n",
       "    <tr>\n",
       "      <th>SMS Amazone (1843)</th>\n",
       "      <td>[-0.11689385, -0.009483575, -0.0639866, -0.099...</td>\n",
       "      <td>0.113184</td>\n",
       "    </tr>\n",
       "    <tr>\n",
       "      <th>Amazon (1999 TV series)</th>\n",
       "      <td>[-0.063362785, 0.054251574, -0.0023293577, -0....</td>\n",
       "      <td>0.114144</td>\n",
       "    </tr>\n",
       "    <tr>\n",
       "      <th>War Goddess</th>\n",
       "      <td>[-0.07343444, -0.032573294, 0.042789374, -0.16...</td>\n",
       "      <td>0.123575</td>\n",
       "    </tr>\n",
       "    <tr>\n",
       "      <th>Amazon-class frigate</th>\n",
       "      <td>[-0.1229765, -0.034967445, 0.054305192, -0.119...</td>\n",
       "      <td>0.131815</td>\n",
       "    </tr>\n",
       "    <tr>\n",
       "      <th>RMS Amazon</th>\n",
       "      <td>[-0.053899143, -0.10052843, -0.05298465, -0.00...</td>\n",
       "      <td>0.167541</td>\n",
       "    </tr>\n",
       "    <tr>\n",
       "      <th>Amazon (Amalgam Comics)</th>\n",
       "      <td>[-0.011410362, 0.035039034, 0.08848371, -0.113...</td>\n",
       "      <td>0.172739</td>\n",
       "    </tr>\n",
       "    <tr>\n",
       "      <th>HMS Amazon</th>\n",
       "      <td>[-0.14452222, -0.034405258, 0.032160975, -0.11...</td>\n",
       "      <td>0.180289</td>\n",
       "    </tr>\n",
       "    <tr>\n",
       "      <th>Lesa Lewis</th>\n",
       "      <td>[0.023951653, 0.046891578, -0.02649967, -0.057...</td>\n",
       "      <td>0.248898</td>\n",
       "    </tr>\n",
       "    <tr>\n",
       "      <th>Amazons (1986 film)</th>\n",
       "      <td>[0.010176019, -0.044462092, -0.05555317, 0.004...</td>\n",
       "      <td>0.261657</td>\n",
       "    </tr>\n",
       "    <tr>\n",
       "      <th>The Amazons (band)</th>\n",
       "      <td>[-0.0405642, 0.09430963, -0.09266488, 0.013594...</td>\n",
       "      <td>0.278720</td>\n",
       "    </tr>\n",
       "    <tr>\n",
       "      <th>Los Angeles Amazons</th>\n",
       "      <td>[-0.009097617, 0.20259656, -0.1165971, 0.02946...</td>\n",
       "      <td>0.356699</td>\n",
       "    </tr>\n",
       "  </tbody>\n",
       "</table>\n",
       "</div>"
      ],
      "text/plain": [
       "                                                                             wv  \\\n",
       "Amazon rainforest             [-0.13217017, 0.09086505, -0.0535981, -0.11312...   \n",
       "Amazon basin                  [-0.10516881, 0.11370765, -0.053919222, -0.132...   \n",
       "Amazon Reef                   [-0.06606301, 0.10743145, -0.054334152, -0.128...   \n",
       "Amazon River                  [-0.1087415, 0.064478986, -0.051910195, -0.137...   \n",
       "Amazonen-Werke                [-0.095847264, 0.10285617, -0.035618577, -0.17...   \n",
       "Diablo II                     [-0.117192894, 0.124908805, -0.013397733, -0.1...   \n",
       "Takembeng                     [-0.095976144, 0.066766486, -0.008813564, -0.1...   \n",
       "Game of the Amazons           [-0.12012394, 0.116951585, -0.026628084, -0.13...   \n",
       "equestrians                   [-0.09384323, 0.0854721, 0.009414364, -0.13802...   \n",
       "Amazon Creek                  [-0.15647501, -0.009726174, -0.06234486, -0.10...   \n",
       "Amazon (chess)                [-0.14313908, 0.09610371, -0.0067325463, -0.12...   \n",
       "The Amazons (play)            [-0.06299555, 0.055649683, -0.02095333, -0.124...   \n",
       "Amazons!                      [-0.06299555, 0.055649683, -0.02095333, -0.124...   \n",
       "Amazons                       [-0.06299555, 0.055649683, -0.02095333, -0.124...   \n",
       "Amazon (company)              [-0.10854941, 0.073133774, -0.004222697, -0.09...   \n",
       "Amazons Company               [-0.10854941, 0.073133774, -0.004222697, -0.09...   \n",
       "Amazon parrot                 [-0.054128032, 0.10576921, -0.010294474, -0.06...   \n",
       "Swallows and Amazons series   [-0.09094784, 0.05896046, -0.011589762, -0.143...   \n",
       "gladiatrix                    [-0.088160574, 0.10087246, 0.013154504, -0.113...   \n",
       "Amazon Bookstore Cooperative  [-0.08441188, 0.067667276, -0.057685655, -0.14...   \n",
       "Amazonka                      [-0.027407385, 0.06159004, -0.059341043, -0.11...   \n",
       "Pro Wrestling                 [-0.06535231, 0.15357609, 0.037908655, -0.1575...   \n",
       "Amazon (brigantine)           [-0.081765175, 0.027112084, -0.040487673, -0.1...   \n",
       "Dahomey Amazons               [-0.08933207, 0.07661065, 0.0072635342, -0.118...   \n",
       "Amazons (DC Comics)           [-0.06802789, 0.04790574, -0.03356071, -0.1257...   \n",
       "GWR 3031 Class                [-0.065044716, 0.026069958, -0.017931461, -0.1...   \n",
       "GWR Iron Duke Class           [-0.1028568, 0.030732231, -0.03579287, -0.1443...   \n",
       "Volvo Amazon                  [-0.060439013, 0.073544726, -0.035604753, -0.1...   \n",
       "Amazon: Guardians of Eden     [-0.056813993, 0.105537154, 0.008526327, -0.12...   \n",
       "Amazon (video game)           [-0.058549535, 0.10586212, 0.0033671837, -0.13...   \n",
       "Amazon (yacht)                [-0.08754492, 0.008528854, -0.039774504, -0.11...   \n",
       "Amazonian Guard               [-0.072592445, 0.10766239, -0.011703923, -0.12...   \n",
       "1042 Amazone                  [-0.09487869, 0.046043977, -0.014876564, -0.06...   \n",
       "Amazon Eve                    [-0.10137874, 0.089399196, -0.03788314, -0.077...   \n",
       "SMS Amazone                   [-0.12159767, 0.027899742, -0.059364714, -0.12...   \n",
       "Man-Killer                    [-0.13107562, 0.05832151, 0.019226352, -0.0832...   \n",
       "Amazon (automobile)           [-0.00549197, 0.024771264, -0.016051233, -0.16...   \n",
       "Amazon (1780 ship)            [-0.11199636, -0.032922808, -0.006332163, -0.0...   \n",
       "SMS Amazone (1843)            [-0.11689385, -0.009483575, -0.0639866, -0.099...   \n",
       "Amazon (1999 TV series)       [-0.063362785, 0.054251574, -0.0023293577, -0....   \n",
       "War Goddess                   [-0.07343444, -0.032573294, 0.042789374, -0.16...   \n",
       "Amazon-class frigate          [-0.1229765, -0.034967445, 0.054305192, -0.119...   \n",
       "RMS Amazon                    [-0.053899143, -0.10052843, -0.05298465, -0.00...   \n",
       "Amazon (Amalgam Comics)       [-0.011410362, 0.035039034, 0.08848371, -0.113...   \n",
       "HMS Amazon                    [-0.14452222, -0.034405258, 0.032160975, -0.11...   \n",
       "Lesa Lewis                    [0.023951653, 0.046891578, -0.02649967, -0.057...   \n",
       "Amazons (1986 film)           [0.010176019, -0.044462092, -0.05555317, 0.004...   \n",
       "The Amazons (band)            [-0.0405642, 0.09430963, -0.09266488, 0.013594...   \n",
       "Los Angeles Amazons           [-0.009097617, 0.20259656, -0.1165971, 0.02946...   \n",
       "\n",
       "                              similarity  \n",
       "Amazon rainforest               0.010135  \n",
       "Amazon basin                    0.010877  \n",
       "Amazon Reef                     0.027716  \n",
       "Amazon River                    0.027809  \n",
       "Amazonen-Werke                  0.047389  \n",
       "Diablo II                       0.048475  \n",
       "Takembeng                       0.050255  \n",
       "Game of the Amazons             0.051603  \n",
       "equestrians                     0.053917  \n",
       "Amazon Creek                    0.056518  \n",
       "Amazon (chess)                  0.056734  \n",
       "The Amazons (play)              0.058609  \n",
       "Amazons!                        0.058609  \n",
       "Amazons                         0.058609  \n",
       "Amazon (company)                0.058929  \n",
       "Amazons Company                 0.058929  \n",
       "Amazon parrot                   0.059955  \n",
       "Swallows and Amazons series     0.060041  \n",
       "gladiatrix                      0.063289  \n",
       "Amazon Bookstore Cooperative    0.063705  \n",
       "Amazonka                        0.064149  \n",
       "Pro Wrestling                   0.065208  \n",
       "Amazon (brigantine)             0.066511  \n",
       "Dahomey Amazons                 0.068327  \n",
       "Amazons (DC Comics)             0.068379  \n",
       "GWR 3031 Class                  0.070676  \n",
       "GWR Iron Duke Class             0.076128  \n",
       "Volvo Amazon                    0.078079  \n",
       "Amazon: Guardians of Eden       0.078711  \n",
       "Amazon (video game)             0.083298  \n",
       "Amazon (yacht)                  0.086787  \n",
       "Amazonian Guard                 0.090194  \n",
       "1042 Amazone                    0.091455  \n",
       "Amazon Eve                      0.091600  \n",
       "SMS Amazone                     0.092635  \n",
       "Man-Killer                      0.097740  \n",
       "Amazon (automobile)             0.098965  \n",
       "Amazon (1780 ship)              0.104043  \n",
       "SMS Amazone (1843)              0.113184  \n",
       "Amazon (1999 TV series)         0.114144  \n",
       "War Goddess                     0.123575  \n",
       "Amazon-class frigate            0.131815  \n",
       "RMS Amazon                      0.167541  \n",
       "Amazon (Amalgam Comics)         0.172739  \n",
       "HMS Amazon                      0.180289  \n",
       "Lesa Lewis                      0.248898  \n",
       "Amazons (1986 film)             0.261657  \n",
       "The Amazons (band)              0.278720  \n",
       "Los Angeles Amazons             0.356699  "
      ]
     },
     "execution_count": 130,
     "metadata": {},
     "output_type": "execute_result"
    }
   ],
   "source": [
    "frame.sort_values(by='similarity')"
   ]
  },
  {
   "cell_type": "code",
   "execution_count": null,
   "metadata": {},
   "outputs": [],
   "source": []
  }
 ],
 "metadata": {
  "kernelspec": {
   "display_name": "Python 3",
   "language": "python",
   "name": "python3"
  },
  "language_info": {
   "codemirror_mode": {
    "name": "ipython",
    "version": 3
   },
   "file_extension": ".py",
   "mimetype": "text/x-python",
   "name": "python",
   "nbconvert_exporter": "python",
   "pygments_lexer": "ipython3",
   "version": "3.6.4"
  }
 },
 "nbformat": 4,
 "nbformat_minor": 2
}
