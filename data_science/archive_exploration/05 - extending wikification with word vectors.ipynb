{
 "cells": [
  {
   "cell_type": "code",
   "execution_count": 1,
   "metadata": {},
   "outputs": [],
   "source": [
    "%matplotlib inline\n",
    "import matplotlib.pyplot as plt\n",
    "import seaborn as sns\n",
    "sns.set_style('white')\n",
    "plt.rcParams['figure.figsize'] = (30, 30)\n",
    "\n",
    "import wikipedia\n",
    "\n",
    "import re\n",
    "import spacy\n",
    "from bs4 import BeautifulSoup\n",
    "from IPython.core.display import display, HTML\n",
    "\n",
    "import numpy as np\n",
    "import pandas as pd\n",
    "import networkx as nx\n",
    "\n",
    "from umap import UMAP\n",
    "from sklearn.cluster import KMeans, AgglomerativeClustering\n",
    "from scipy.spatial.distance import cosine\n",
    "\n",
    "from tqdm import tqdm_notebook as tqdm"
   ]
  },
  {
   "cell_type": "code",
   "execution_count": 4,
   "metadata": {},
   "outputs": [],
   "source": [
    "nlp = spacy.load('en')"
   ]
  },
  {
   "cell_type": "code",
   "execution_count": 244,
   "metadata": {},
   "outputs": [],
   "source": [
    "df = pd.read_json('data/calm_records.json')"
   ]
  },
  {
   "cell_type": "markdown",
   "metadata": {},
   "source": [
    "### get average word vector for our collection-level record"
   ]
  },
  {
   "cell_type": "code",
   "execution_count": 245,
   "metadata": {},
   "outputs": [
    {
     "name": "stdout",
     "output_type": "stream",
     "text": [
      "The Abortion Law Reform Association (ALRA) was founded in 1935 for the legalisation of abortion in c\n"
     ]
    }
   ],
   "source": [
    "record = df.loc[269057]['AdminHistory'][0]\n",
    "soup = BeautifulSoup(record, 'html.parser')\n",
    "plain_text = soup.get_text()\n",
    "plain_text = ' '.join(plain_text.split())\n",
    "\n",
    "\n",
    "print(plain_text[:100])"
   ]
  },
  {
   "cell_type": "code",
   "execution_count": 255,
   "metadata": {},
   "outputs": [],
   "source": [
    "doc = nlp(plain_text)\n",
    "doc_avg_wv = np.array([word.vector for word in doc]).mean(axis=0)"
   ]
  },
  {
   "cell_type": "markdown",
   "metadata": {},
   "source": [
    "### get average word vector for a specific, known wikipedia page"
   ]
  },
  {
   "cell_type": "code",
   "execution_count": 42,
   "metadata": {},
   "outputs": [
    {
     "data": {
      "text/plain": [
       "(384,)"
      ]
     },
     "execution_count": 42,
     "metadata": {},
     "output_type": "execute_result"
    }
   ],
   "source": [
    "h = wikipedia.page('Hinge_loss')\n",
    "doc = nlp(h.content)\n",
    "np.array([word.vector for word in doc]).mean(axis=0).shape"
   ]
  },
  {
   "cell_type": "code",
   "execution_count": 225,
   "metadata": {},
   "outputs": [],
   "source": [
    "known_page = nlp(wikipedia.page('dog').content)\n",
    "known_avg_wv = np.array([word.vector for word in known_page]).mean(axis=0)"
   ]
  },
  {
   "cell_type": "markdown",
   "metadata": {},
   "source": [
    "### get average word vectors for all pages in wikipedia search "
   ]
  },
  {
   "cell_type": "code",
   "execution_count": 226,
   "metadata": {},
   "outputs": [
    {
     "data": {
      "text/plain": [
       "['Chicken',\n",
       " 'Chicken (disambiguation)',\n",
       " 'Chicken as food',\n",
       " 'KFC',\n",
       " 'Chickenpox',\n",
       " 'Chicken and rice',\n",
       " 'Chicken wing',\n",
       " 'Rooster',\n",
       " 'Chickenhawk',\n",
       " 'Curry']"
      ]
     },
     "execution_count": 226,
     "metadata": {},
     "output_type": "execute_result"
    }
   ],
   "source": [
    "wikipedia.search('chicken')"
   ]
  },
  {
   "cell_type": "code",
   "execution_count": 227,
   "metadata": {},
   "outputs": [
    {
     "name": "stdout",
     "output_type": "stream",
     "text": [
      "['Chicken', 'Chicken as food', 'KFC', 'Chickenpox', 'Chicken and rice', 'Chicken wing', 'Rooster', 'Chickenhawk', 'Curry']\n"
     ]
    }
   ],
   "source": [
    "possible_avg_wvs = pd.Series()\n",
    "possible_page_titles = [title for title in wikipedia.search('chicken')\n",
    "                        if 'disambiguation' not in title]\n",
    "print(possible_page_titles)"
   ]
  },
  {
   "cell_type": "code",
   "execution_count": 231,
   "metadata": {},
   "outputs": [],
   "source": [
    "def get_pages(page_name):\n",
    "    pages = []\n",
    "    try:\n",
    "        wikipedia.page(page_name).url\n",
    "        # we're just hitting the url to check for disambiguation errors\n",
    "        pages.append(page_name)\n",
    "    except wikipedia.exceptions.DisambiguationError as disambiguation:\n",
    "        for option in disambiguation.options:\n",
    "            # Note that we're only going one level deep into disambiguations.\n",
    "            # This should be more than enough for our purposes, and it's easy\n",
    "            # to get caught in horrible, endless loops and branches if we make\n",
    "            # this properly recursive.\n",
    "            try: \n",
    "                wikipedia.page(option).url\n",
    "                pages.append(option)\n",
    "            except wikipedia.exceptions.DisambiguationError: pass\n",
    "    return pages"
   ]
  },
  {
   "cell_type": "code",
   "execution_count": 232,
   "metadata": {},
   "outputs": [],
   "source": [
    "def flatten(list_of_lists):\n",
    "    return [j for i in list_of_lists for j in i]"
   ]
  },
  {
   "cell_type": "code",
   "execution_count": 233,
   "metadata": {},
   "outputs": [
    {
     "name": "stderr",
     "output_type": "stream",
     "text": [
      "/Users/pimharr/anaconda3/lib/python3.6/site-packages/bs4/__init__.py:181: UserWarning: No parser was explicitly specified, so I'm using the best available HTML parser for this system (\"lxml\"). This usually isn't a problem, but if you run this code on another system, or in a different virtual environment, it may use a different parser and behave differently.\n",
      "\n",
      "The code that caused this warning is on line 193 of the file /Users/pimharr/anaconda3/lib/python3.6/runpy.py. To get rid of this warning, change code that looks like this:\n",
      "\n",
      " BeautifulSoup(YOUR_MARKUP})\n",
      "\n",
      "to this:\n",
      "\n",
      " BeautifulSoup(YOUR_MARKUP, \"lxml\")\n",
      "\n",
      "  markup_type=markup_type))\n"
     ]
    }
   ],
   "source": [
    "all_page_names = np.unique(flatten([get_pages(page_name) \n",
    "                                    for page_name in possible_page_titles]))"
   ]
  },
  {
   "cell_type": "code",
   "execution_count": 234,
   "metadata": {},
   "outputs": [],
   "source": [
    "known_page = nlp(wikipedia.page('dog').summary)\n",
    "known_avg_wv = np.array([word.vector for word in known_page]).mean(axis=0)"
   ]
  },
  {
   "cell_type": "code",
   "execution_count": 235,
   "metadata": {},
   "outputs": [
    {
     "data": {
      "application/vnd.jupyter.widget-view+json": {
       "model_id": "cfda5de94f7446dca26c10ead3f0a623",
       "version_major": 2,
       "version_minor": 0
      },
      "text/html": [
       "<p>Failed to display Jupyter Widget of type <code>HBox</code>.</p>\n",
       "<p>\n",
       "  If you're reading this message in the Jupyter Notebook or JupyterLab Notebook, it may mean\n",
       "  that the widgets JavaScript is still loading. If this message persists, it\n",
       "  likely means that the widgets JavaScript library is either not installed or\n",
       "  not enabled. See the <a href=\"https://ipywidgets.readthedocs.io/en/stable/user_install.html\">Jupyter\n",
       "  Widgets Documentation</a> for setup instructions.\n",
       "</p>\n",
       "<p>\n",
       "  If you're reading this message in another frontend (for example, a static\n",
       "  rendering on GitHub or <a href=\"https://nbviewer.jupyter.org/\">NBViewer</a>),\n",
       "  it may mean that your frontend doesn't currently support widgets.\n",
       "</p>\n"
      ],
      "text/plain": [
       "HBox(children=(IntProgress(value=0, max=32), HTML(value='')))"
      ]
     },
     "metadata": {},
     "output_type": "display_data"
    }
   ],
   "source": [
    "candidate_wvs = pd.Series({page_name: (np.array([word.vector for word in \n",
    "                                                 nlp(wikipedia.page(page_name).content)])\n",
    "                                       .mean(axis=0))\n",
    "                           for page_name in tqdm(all_page_names)})"
   ]
  },
  {
   "cell_type": "markdown",
   "metadata": {},
   "source": [
    "in our example we have a load of text about swimming, and we want to figure out which version of the page 'pool' is most relevant"
   ]
  },
  {
   "cell_type": "code",
   "execution_count": 236,
   "metadata": {
    "scrolled": false
   },
   "outputs": [
    {
     "data": {
      "text/html": [
       "<div>\n",
       "<style scoped>\n",
       "    .dataframe tbody tr th:only-of-type {\n",
       "        vertical-align: middle;\n",
       "    }\n",
       "\n",
       "    .dataframe tbody tr th {\n",
       "        vertical-align: top;\n",
       "    }\n",
       "\n",
       "    .dataframe thead th {\n",
       "        text-align: right;\n",
       "    }\n",
       "</style>\n",
       "<table border=\"1\" class=\"dataframe\">\n",
       "  <thead>\n",
       "    <tr style=\"text-align: right;\">\n",
       "      <th></th>\n",
       "      <th>word vector</th>\n",
       "      <th>similarity</th>\n",
       "    </tr>\n",
       "  </thead>\n",
       "  <tbody>\n",
       "    <tr>\n",
       "      <th>Chicken wings as food</th>\n",
       "      <td>[0.51195973, 0.2876703, 0.24118368, 0.8079274,...</td>\n",
       "      <td>0.031837</td>\n",
       "    </tr>\n",
       "    <tr>\n",
       "      <th>Chicken as food</th>\n",
       "      <td>[0.51195973, 0.2876703, 0.24118368, 0.8079274,...</td>\n",
       "      <td>0.031837</td>\n",
       "    </tr>\n",
       "    <tr>\n",
       "      <th>Chickenpox</th>\n",
       "      <td>[0.53671205, 0.41329744, 0.21139945, 0.8837856...</td>\n",
       "      <td>0.045820</td>\n",
       "    </tr>\n",
       "    <tr>\n",
       "      <th>Red-tailed hawk</th>\n",
       "      <td>[0.5274143, 0.30443037, 0.056660794, 0.8691285...</td>\n",
       "      <td>0.047592</td>\n",
       "    </tr>\n",
       "    <tr>\n",
       "      <th>Claypot chicken rice</th>\n",
       "      <td>[0.479356, 0.52213734, 0.20710574, 0.82475156,...</td>\n",
       "      <td>0.051678</td>\n",
       "    </tr>\n",
       "    <tr>\n",
       "      <th>Cooper's hawk</th>\n",
       "      <td>[0.45091563, 0.34084162, 0.24449615, 0.9361986...</td>\n",
       "      <td>0.053301</td>\n",
       "    </tr>\n",
       "    <tr>\n",
       "      <th>Chicken</th>\n",
       "      <td>[0.34808967, 0.39554432, 0.34948257, 0.8447767...</td>\n",
       "      <td>0.053340</td>\n",
       "    </tr>\n",
       "    <tr>\n",
       "      <th>Curry</th>\n",
       "      <td>[0.33137044, 0.35823157, 0.3451136, 0.7453335,...</td>\n",
       "      <td>0.063725</td>\n",
       "    </tr>\n",
       "    <tr>\n",
       "      <th>Hainanese chicken rice</th>\n",
       "      <td>[0.21281174, 0.5049968, 0.32360315, 0.61717415...</td>\n",
       "      <td>0.068132</td>\n",
       "    </tr>\n",
       "    <tr>\n",
       "      <th>Chicken pilaf</th>\n",
       "      <td>[0.25391656, 0.41949353, 0.11254915, 0.7203721...</td>\n",
       "      <td>0.068609</td>\n",
       "    </tr>\n",
       "    <tr>\n",
       "      <th>Chickenhawk (bird)</th>\n",
       "      <td>[0.24248761, 0.43111047, 0.36085495, 0.6665866...</td>\n",
       "      <td>0.089128</td>\n",
       "    </tr>\n",
       "    <tr>\n",
       "      <th>Buffalo wing</th>\n",
       "      <td>[0.14288613, 0.5318894, 0.41252068, 0.7302096,...</td>\n",
       "      <td>0.090330</td>\n",
       "    </tr>\n",
       "    <tr>\n",
       "      <th>Chicken biryani</th>\n",
       "      <td>[0.02491817, 0.5635038, 0.33891296, 0.80545, -...</td>\n",
       "      <td>0.096415</td>\n",
       "    </tr>\n",
       "    <tr>\n",
       "      <th>Chicken lollipop</th>\n",
       "      <td>[0.017908359, 0.29484227, 0.200576, 1.0004953,...</td>\n",
       "      <td>0.104464</td>\n",
       "    </tr>\n",
       "    <tr>\n",
       "      <th>Chickenhawk (gay slang)</th>\n",
       "      <td>[0.12280948, 0.48975194, 0.33429408, 0.6849615...</td>\n",
       "      <td>0.105041</td>\n",
       "    </tr>\n",
       "    <tr>\n",
       "      <th>Rooster</th>\n",
       "      <td>[0.24805096, 0.5171568, 0.45572588, 1.0765492,...</td>\n",
       "      <td>0.108782</td>\n",
       "    </tr>\n",
       "    <tr>\n",
       "      <th>Cơm gà rau thơm</th>\n",
       "      <td>[0.42766017, 0.4402077, 0.21937686, 1.1222032,...</td>\n",
       "      <td>0.114479</td>\n",
       "    </tr>\n",
       "    <tr>\n",
       "      <th>KFC</th>\n",
       "      <td>[0.13781524, 0.5731158, 0.44764203, 0.8648735,...</td>\n",
       "      <td>0.133841</td>\n",
       "    </tr>\n",
       "    <tr>\n",
       "      <th>Chickenhawk (politics)</th>\n",
       "      <td>[0.29590017, 0.390165, 0.44801986, 0.9492448, ...</td>\n",
       "      <td>0.134266</td>\n",
       "    </tr>\n",
       "    <tr>\n",
       "      <th>Sharp-shinned hawk</th>\n",
       "      <td>[0.23597272, 0.28397334, 0.3187666, 0.7787539,...</td>\n",
       "      <td>0.135246</td>\n",
       "    </tr>\n",
       "    <tr>\n",
       "      <th>Oyakodon</th>\n",
       "      <td>[0.17329289, 0.48838946, 0.3922147, 0.73043615...</td>\n",
       "      <td>0.151921</td>\n",
       "    </tr>\n",
       "    <tr>\n",
       "      <th>Arroz con pollo</th>\n",
       "      <td>[0.06169567, 0.56329775, 0.3431802, 0.7000224,...</td>\n",
       "      <td>0.158511</td>\n",
       "    </tr>\n",
       "    <tr>\n",
       "      <th>Chicken Hawk: Men Who Love Boys</th>\n",
       "      <td>[-0.014845805, 0.73771423, 0.5519477, 0.898095...</td>\n",
       "      <td>0.166708</td>\n",
       "    </tr>\n",
       "    <tr>\n",
       "      <th>Chicken wing tackle</th>\n",
       "      <td>[-0.08087511, 0.7357447, 0.4550622, 1.1797032,...</td>\n",
       "      <td>0.169620</td>\n",
       "    </tr>\n",
       "    <tr>\n",
       "      <th>Swiss wing</th>\n",
       "      <td>[-0.08872953, 0.6258544, 0.42423955, 0.8216063...</td>\n",
       "      <td>0.182558</td>\n",
       "    </tr>\n",
       "    <tr>\n",
       "      <th>The Halal Guys</th>\n",
       "      <td>[0.06955761, 0.68436915, 0.6973526, 0.91384673...</td>\n",
       "      <td>0.219057</td>\n",
       "    </tr>\n",
       "    <tr>\n",
       "      <th>Chickenhawk (book)</th>\n",
       "      <td>[-0.06869751, 0.5198329, 0.6745563, 1.0032448,...</td>\n",
       "      <td>0.225804</td>\n",
       "    </tr>\n",
       "    <tr>\n",
       "      <th>Chickenwings</th>\n",
       "      <td>[-0.00037927972, 0.56766504, 0.80135703, 0.817...</td>\n",
       "      <td>0.231054</td>\n",
       "    </tr>\n",
       "    <tr>\n",
       "      <th>Galinhada</th>\n",
       "      <td>[-0.061138142, 0.5479389, 0.7651306, 0.7417766...</td>\n",
       "      <td>0.262802</td>\n",
       "    </tr>\n",
       "    <tr>\n",
       "      <th>Henery Hawk</th>\n",
       "      <td>[-0.034209393, 0.6061877, 0.74886644, 0.865011...</td>\n",
       "      <td>0.271533</td>\n",
       "    </tr>\n",
       "    <tr>\n",
       "      <th>The Chicken Rice Shop</th>\n",
       "      <td>[-0.46918082, 0.754113, 0.8708904, 0.52027816,...</td>\n",
       "      <td>0.385833</td>\n",
       "    </tr>\n",
       "    <tr>\n",
       "      <th>Chicken Rice War</th>\n",
       "      <td>[-0.67480505, 0.7979138, 1.0327505, 0.9011475,...</td>\n",
       "      <td>0.419841</td>\n",
       "    </tr>\n",
       "  </tbody>\n",
       "</table>\n",
       "</div>"
      ],
      "text/plain": [
       "                                                                       word vector  \\\n",
       "Chicken wings as food            [0.51195973, 0.2876703, 0.24118368, 0.8079274,...   \n",
       "Chicken as food                  [0.51195973, 0.2876703, 0.24118368, 0.8079274,...   \n",
       "Chickenpox                       [0.53671205, 0.41329744, 0.21139945, 0.8837856...   \n",
       "Red-tailed hawk                  [0.5274143, 0.30443037, 0.056660794, 0.8691285...   \n",
       "Claypot chicken rice             [0.479356, 0.52213734, 0.20710574, 0.82475156,...   \n",
       "Cooper's hawk                    [0.45091563, 0.34084162, 0.24449615, 0.9361986...   \n",
       "Chicken                          [0.34808967, 0.39554432, 0.34948257, 0.8447767...   \n",
       "Curry                            [0.33137044, 0.35823157, 0.3451136, 0.7453335,...   \n",
       "Hainanese chicken rice           [0.21281174, 0.5049968, 0.32360315, 0.61717415...   \n",
       "Chicken pilaf                    [0.25391656, 0.41949353, 0.11254915, 0.7203721...   \n",
       "Chickenhawk (bird)               [0.24248761, 0.43111047, 0.36085495, 0.6665866...   \n",
       "Buffalo wing                     [0.14288613, 0.5318894, 0.41252068, 0.7302096,...   \n",
       "Chicken biryani                  [0.02491817, 0.5635038, 0.33891296, 0.80545, -...   \n",
       "Chicken lollipop                 [0.017908359, 0.29484227, 0.200576, 1.0004953,...   \n",
       "Chickenhawk (gay slang)          [0.12280948, 0.48975194, 0.33429408, 0.6849615...   \n",
       "Rooster                          [0.24805096, 0.5171568, 0.45572588, 1.0765492,...   \n",
       "Cơm gà rau thơm                  [0.42766017, 0.4402077, 0.21937686, 1.1222032,...   \n",
       "KFC                              [0.13781524, 0.5731158, 0.44764203, 0.8648735,...   \n",
       "Chickenhawk (politics)           [0.29590017, 0.390165, 0.44801986, 0.9492448, ...   \n",
       "Sharp-shinned hawk               [0.23597272, 0.28397334, 0.3187666, 0.7787539,...   \n",
       "Oyakodon                         [0.17329289, 0.48838946, 0.3922147, 0.73043615...   \n",
       "Arroz con pollo                  [0.06169567, 0.56329775, 0.3431802, 0.7000224,...   \n",
       "Chicken Hawk: Men Who Love Boys  [-0.014845805, 0.73771423, 0.5519477, 0.898095...   \n",
       "Chicken wing tackle              [-0.08087511, 0.7357447, 0.4550622, 1.1797032,...   \n",
       "Swiss wing                       [-0.08872953, 0.6258544, 0.42423955, 0.8216063...   \n",
       "The Halal Guys                   [0.06955761, 0.68436915, 0.6973526, 0.91384673...   \n",
       "Chickenhawk (book)               [-0.06869751, 0.5198329, 0.6745563, 1.0032448,...   \n",
       "Chickenwings                     [-0.00037927972, 0.56766504, 0.80135703, 0.817...   \n",
       "Galinhada                        [-0.061138142, 0.5479389, 0.7651306, 0.7417766...   \n",
       "Henery Hawk                      [-0.034209393, 0.6061877, 0.74886644, 0.865011...   \n",
       "The Chicken Rice Shop            [-0.46918082, 0.754113, 0.8708904, 0.52027816,...   \n",
       "Chicken Rice War                 [-0.67480505, 0.7979138, 1.0327505, 0.9011475,...   \n",
       "\n",
       "                                 similarity  \n",
       "Chicken wings as food              0.031837  \n",
       "Chicken as food                    0.031837  \n",
       "Chickenpox                         0.045820  \n",
       "Red-tailed hawk                    0.047592  \n",
       "Claypot chicken rice               0.051678  \n",
       "Cooper's hawk                      0.053301  \n",
       "Chicken                            0.053340  \n",
       "Curry                              0.063725  \n",
       "Hainanese chicken rice             0.068132  \n",
       "Chicken pilaf                      0.068609  \n",
       "Chickenhawk (bird)                 0.089128  \n",
       "Buffalo wing                       0.090330  \n",
       "Chicken biryani                    0.096415  \n",
       "Chicken lollipop                   0.104464  \n",
       "Chickenhawk (gay slang)            0.105041  \n",
       "Rooster                            0.108782  \n",
       "Cơm gà rau thơm                    0.114479  \n",
       "KFC                                0.133841  \n",
       "Chickenhawk (politics)             0.134266  \n",
       "Sharp-shinned hawk                 0.135246  \n",
       "Oyakodon                           0.151921  \n",
       "Arroz con pollo                    0.158511  \n",
       "Chicken Hawk: Men Who Love Boys    0.166708  \n",
       "Chicken wing tackle                0.169620  \n",
       "Swiss wing                         0.182558  \n",
       "The Halal Guys                     0.219057  \n",
       "Chickenhawk (book)                 0.225804  \n",
       "Chickenwings                       0.231054  \n",
       "Galinhada                          0.262802  \n",
       "Henery Hawk                        0.271533  \n",
       "The Chicken Rice Shop              0.385833  \n",
       "Chicken Rice War                   0.419841  "
      ]
     },
     "execution_count": 236,
     "metadata": {},
     "output_type": "execute_result"
    }
   ],
   "source": [
    "df = candidate_wvs.to_frame('word vector')\n",
    "\n",
    "df['similarity'] = df['word vector'].apply(lambda avg_wv: cosine(avg_wv, known_avg_wv))\n",
    "df.sort_values(by='similarity')"
   ]
  },
  {
   "cell_type": "code",
   "execution_count": 239,
   "metadata": {},
   "outputs": [
    {
     "data": {
      "text/plain": [
       "'https://en.wikipedia.org/wiki/Chicken_as_food'"
      ]
     },
     "execution_count": 239,
     "metadata": {},
     "output_type": "execute_result"
    }
   ],
   "source": [
    "wikipedia.page('Chicken wings as food').url"
   ]
  },
  {
   "cell_type": "code",
   "execution_count": 247,
   "metadata": {},
   "outputs": [
    {
     "name": "stdout",
     "output_type": "stream",
     "text": [
      "The Abortion Law Reform Association\n",
      "1935\n",
      "the 1967 Abortion Act\n",
      "Association\n",
      "Act\n",
      "the United Kingdom\n",
      "1803\n",
      "1861\n",
      "the Offences Against the Person Act 1929 Infant Life (Preservation) Act\n",
      "1931-1932\n",
      "McCardie\n",
      "Leeds Assizes\n",
      "1934\n",
      "Cooperative Women's\n",
      "Annual\n",
      "1934\n",
      "British Medical Association Committee\n",
      "the Medical Aspects of Abortion\n",
      "1936\n",
      "1936\n",
      "Three\n",
      "Stella Browne\n",
      "Harry Roberts\n",
      "A Ludovici\n",
      "1936\n",
      "Foundation of Abortion Law Reform Association\n",
      "ALRA\n",
      "1936-1937\n",
      "Joint Committee of Midwifery Induced Abortion Survey 1937 Interdepartmental Committee on Abortion\n",
      "Norman Birkett\n",
      "1939\n",
      "Alec Bourne\n",
      "14-year-old\n",
      "Macnaghten\n",
      "1944\n",
      "ALRA\n",
      "1947\n",
      "Publication of Back Street Surgery\n",
      "1948\n",
      "Bergmann\n",
      "Ferguson\n",
      "1949\n",
      "Eustace Chesser\n",
      "'Society and Abortion'\n",
      "1950\n",
      "Chesser\n",
      "1950\n",
      "The Fallen Sparrow\n",
      "Gateway Theatre Club 1950\n",
      "1952\n",
      "Joseph Reeves'\n",
      "Bill\n",
      "1954\n",
      "Amulree\n",
      "Bill\n",
      "House of Lords\n",
      "Second\n",
      "Kenneth Robinson\n",
      "House of Commons\n",
      "1957\n",
      "Lena Jeger\n",
      "Douglas Houghton\n",
      "1958\n",
      "Newton\n",
      "Stungo\n",
      "1958\n",
      "Publication\n",
      "Glanville Williams\n",
      "The Sanctity of Life\n",
      "the Criminal Law\n",
      "Alice Jenkins'\n",
      "Law\n",
      "Rich\n",
      "1961\n",
      "K Robinson's\n",
      "Bill\n",
      "Parliament 1961 Thalidomide\n",
      "1962\n",
      "Commons and Lords\n",
      "1962\n",
      "Formation of Birmingham\n",
      "1963\n",
      "North-west London\n",
      "Bristol Groups\n",
      "1963\n",
      "Manchester Group\n",
      "1964\n",
      "1964\n",
      "Survey of London\n",
      "North-west London Group\n",
      "1965\n",
      "1964\n",
      "Gerald Gardiner QC\n",
      "ALRA\n",
      "Birmingham Group 1965 Deputation to Home\n",
      "Frank Soskice\n",
      "1965\n",
      "Cumberland Doctors'\n",
      "South East London Group\n",
      "1965\n",
      "Renee Short\n",
      "David Kerr\n",
      "An Ethical Discussion\n",
      "the Church Assembly's\n",
      "Board for Social Responsibility\n",
      "1965\n",
      "RC\n",
      "Renee Short's\n",
      "Rule Bill 1965\n",
      "Silkin\n",
      "first\n",
      "Bill\n",
      "1965\n",
      "National Opinion Poll\n",
      "Digby\n",
      "Bill\n",
      "1966\n",
      "BMA\n",
      "RCOG 1966 South East London Group Clergymen's\n",
      "Survey 1966\n",
      "Silkin\n",
      "second\n",
      "Bill\n",
      "1966 David Steel\n",
      "Bill\n",
      "Home Office\n",
      "1966\n",
      "Paul Ferris\n",
      "Britain\n",
      "Today\n",
      "1967\n",
      "1966\n",
      "1966\n",
      "Lord Silkin's\n",
      "second\n",
      "Bill\n",
      "House of Lords 1966 Steel\n",
      "Royal Assent\n",
      "October 1968\n",
      "Apr Abortion Act\n",
      "1969\n",
      "Norman St John Stevas\n",
      "Bill\n",
      "10 minute\n",
      "Act\n",
      "1970\n",
      "Godman Irvine\n",
      "Bill\n",
      "Act 1970 LIFE\n",
      "1970-1971\n",
      "RCOG Enquiry\n",
      "First Year\n",
      "the Abortion Act\n",
      "Working Party\n",
      "Unplanned Pregnancy\n",
      "1971-1974\n",
      "Committee on the Working of the Abortion Act (Lane Committee\n",
      "1974\n",
      "the NHS 1974 Babies for Burning\n",
      "1975\n",
      "James White Abortion\n",
      "Bill 1975 Babies\n",
      "Sunday\n",
      "Times\n",
      "1975-1980\n",
      "Select Committee on Abortion 1977 Benyon Abortion\n",
      "1978\n",
      "Braine 10 Minute\n",
      "1979-1980\n",
      "John Corrie\n",
      "Bill\n",
      "David Alton\n",
      "1988\n",
      "David Alton\n",
      "Bill\n",
      "1990\n",
      "24 weeks\n",
      "1991\n",
      "Mifepristone\n",
      "RU-486\n",
      "1992\n",
      "Attempts\n",
      "American\n",
      "UK\n",
      "2003\n",
      "ALRA\n",
      "the National Abortion Campaign\n"
     ]
    }
   ],
   "source": [
    "for ent in nlp(plain_text).ents:\n",
    "    print(ent)"
   ]
  },
  {
   "cell_type": "code",
   "execution_count": 253,
   "metadata": {},
   "outputs": [
    {
     "data": {
      "application/vnd.jupyter.widget-view+json": {
       "model_id": "abf9ec73441d419092de59ef604b4fd2",
       "version_major": 2,
       "version_minor": 0
      },
      "text/html": [
       "<p>Failed to display Jupyter Widget of type <code>HBox</code>.</p>\n",
       "<p>\n",
       "  If you're reading this message in the Jupyter Notebook or JupyterLab Notebook, it may mean\n",
       "  that the widgets JavaScript is still loading. If this message persists, it\n",
       "  likely means that the widgets JavaScript library is either not installed or\n",
       "  not enabled. See the <a href=\"https://ipywidgets.readthedocs.io/en/stable/user_install.html\">Jupyter\n",
       "  Widgets Documentation</a> for setup instructions.\n",
       "</p>\n",
       "<p>\n",
       "  If you're reading this message in another frontend (for example, a static\n",
       "  rendering on GitHub or <a href=\"https://nbviewer.jupyter.org/\">NBViewer</a>),\n",
       "  it may mean that your frontend doesn't currently support widgets.\n",
       "</p>\n"
      ],
      "text/plain": [
       "HBox(children=(IntProgress(value=0, max=10), HTML(value='')))"
      ]
     },
     "metadata": {},
     "output_type": "display_data"
    },
    {
     "name": "stdout",
     "output_type": "stream",
     "text": [
      "\n"
     ]
    },
    {
     "name": "stderr",
     "output_type": "stream",
     "text": [
      "Exception in thread Thread-6:\n",
      "Traceback (most recent call last):\n",
      "  File \"/Users/pimharr/anaconda3/lib/python3.6/threading.py\", line 916, in _bootstrap_inner\n",
      "    self.run()\n",
      "  File \"/Users/pimharr/anaconda3/lib/python3.6/site-packages/tqdm/_monitor.py\", line 62, in run\n",
      "    for instance in self.tqdm_cls._instances:\n",
      "  File \"/Users/pimharr/anaconda3/lib/python3.6/_weakrefset.py\", line 60, in __iter__\n",
      "    for itemref in self.data:\n",
      "RuntimeError: Set changed size during iteration\n",
      "\n"
     ]
    },
    {
     "name": "stdout",
     "output_type": "stream",
     "text": [
      "\n"
     ]
    }
   ],
   "source": [
    "all_page_names = np.unique(flatten([get_pages(page_name) \n",
    "                                    for page_name in wikipedia.search(str(nlp(plain_text).ents[0]))]))\n",
    "\n",
    "candidate_wvs = pd.Series({page_name: (np.array([word.vector for word in \n",
    "                                                 nlp(wikipedia.page(page_name).content)])\n",
    "                                       .mean(axis=0))\n",
    "                           for page_name in tqdm(all_page_names)})"
   ]
  },
  {
   "cell_type": "code",
   "execution_count": 258,
   "metadata": {},
   "outputs": [
    {
     "data": {
      "text/html": [
       "<div>\n",
       "<style scoped>\n",
       "    .dataframe tbody tr th:only-of-type {\n",
       "        vertical-align: middle;\n",
       "    }\n",
       "\n",
       "    .dataframe tbody tr th {\n",
       "        vertical-align: top;\n",
       "    }\n",
       "\n",
       "    .dataframe thead th {\n",
       "        text-align: right;\n",
       "    }\n",
       "</style>\n",
       "<table border=\"1\" class=\"dataframe\">\n",
       "  <thead>\n",
       "    <tr style=\"text-align: right;\">\n",
       "      <th></th>\n",
       "      <th>word vector</th>\n",
       "      <th>similarity</th>\n",
       "    </tr>\n",
       "  </thead>\n",
       "  <tbody>\n",
       "    <tr>\n",
       "      <th>Vera Houghton</th>\n",
       "      <td>[-0.4301998, 0.54130113, 0.92792326, 0.7759411...</td>\n",
       "      <td>0.063963</td>\n",
       "    </tr>\n",
       "    <tr>\n",
       "      <th>Abortion Law Reform Association of New Zealand</th>\n",
       "      <td>[-0.21933034, 0.7977514, 0.5871409, 0.7833126,...</td>\n",
       "      <td>0.073753</td>\n",
       "    </tr>\n",
       "    <tr>\n",
       "      <th>Peter Diggory</th>\n",
       "      <td>[-0.17954479, 0.5839987, 0.8003913, 1.1062534,...</td>\n",
       "      <td>0.082774</td>\n",
       "    </tr>\n",
       "    <tr>\n",
       "      <th>Abortion in New Zealand</th>\n",
       "      <td>[0.10222111, 0.6283409, 0.5274474, 0.87226874,...</td>\n",
       "      <td>0.093775</td>\n",
       "    </tr>\n",
       "    <tr>\n",
       "      <th>Abortion Rights (organisation)</th>\n",
       "      <td>[0.09492731, 0.6478804, 0.5869149, 1.133949, 0...</td>\n",
       "      <td>0.135124</td>\n",
       "    </tr>\n",
       "    <tr>\n",
       "      <th>Alice Jenkins</th>\n",
       "      <td>[-0.00235377, 0.5708108, 0.6733205, 1.0527755,...</td>\n",
       "      <td>0.145237</td>\n",
       "    </tr>\n",
       "    <tr>\n",
       "      <th>Abortion in the United Kingdom</th>\n",
       "      <td>[0.33629876, 0.46168223, 0.46644717, 0.9045381...</td>\n",
       "      <td>0.145799</td>\n",
       "    </tr>\n",
       "    <tr>\n",
       "      <th>Stella Browne</th>\n",
       "      <td>[0.24075787, 0.3299855, 0.40706477, 0.9012635,...</td>\n",
       "      <td>0.192801</td>\n",
       "    </tr>\n",
       "    <tr>\n",
       "      <th>Abortion-rights movements</th>\n",
       "      <td>[0.3448882, 0.50422907, 0.29530606, 0.9066715,...</td>\n",
       "      <td>0.192875</td>\n",
       "    </tr>\n",
       "    <tr>\n",
       "      <th>History of abortion</th>\n",
       "      <td>[0.3595639, 0.40332535, 0.2431662, 0.9069025, ...</td>\n",
       "      <td>0.220592</td>\n",
       "    </tr>\n",
       "  </tbody>\n",
       "</table>\n",
       "</div>"
      ],
      "text/plain": [
       "                                                                                      word vector  \\\n",
       "Vera Houghton                                   [-0.4301998, 0.54130113, 0.92792326, 0.7759411...   \n",
       "Abortion Law Reform Association of New Zealand  [-0.21933034, 0.7977514, 0.5871409, 0.7833126,...   \n",
       "Peter Diggory                                   [-0.17954479, 0.5839987, 0.8003913, 1.1062534,...   \n",
       "Abortion in New Zealand                         [0.10222111, 0.6283409, 0.5274474, 0.87226874,...   \n",
       "Abortion Rights (organisation)                  [0.09492731, 0.6478804, 0.5869149, 1.133949, 0...   \n",
       "Alice Jenkins                                   [-0.00235377, 0.5708108, 0.6733205, 1.0527755,...   \n",
       "Abortion in the United Kingdom                  [0.33629876, 0.46168223, 0.46644717, 0.9045381...   \n",
       "Stella Browne                                   [0.24075787, 0.3299855, 0.40706477, 0.9012635,...   \n",
       "Abortion-rights movements                       [0.3448882, 0.50422907, 0.29530606, 0.9066715,...   \n",
       "History of abortion                             [0.3595639, 0.40332535, 0.2431662, 0.9069025, ...   \n",
       "\n",
       "                                                similarity  \n",
       "Vera Houghton                                     0.063963  \n",
       "Abortion Law Reform Association of New Zealand    0.073753  \n",
       "Peter Diggory                                     0.082774  \n",
       "Abortion in New Zealand                           0.093775  \n",
       "Abortion Rights (organisation)                    0.135124  \n",
       "Alice Jenkins                                     0.145237  \n",
       "Abortion in the United Kingdom                    0.145799  \n",
       "Stella Browne                                     0.192801  \n",
       "Abortion-rights movements                         0.192875  \n",
       "History of abortion                               0.220592  "
      ]
     },
     "execution_count": 258,
     "metadata": {},
     "output_type": "execute_result"
    }
   ],
   "source": [
    "df = candidate_wvs.to_frame('word vector')\n",
    "\n",
    "df['similarity'] = df['word vector'].apply(lambda avg_wv: cosine(avg_wv, doc_avg_wv))\n",
    "df.sort_values(by='similarity')"
   ]
  },
  {
   "cell_type": "code",
   "execution_count": null,
   "metadata": {},
   "outputs": [],
   "source": []
  },
  {
   "cell_type": "code",
   "execution_count": null,
   "metadata": {},
   "outputs": [],
   "source": []
  },
  {
   "cell_type": "code",
   "execution_count": null,
   "metadata": {},
   "outputs": [],
   "source": []
  },
  {
   "cell_type": "code",
   "execution_count": null,
   "metadata": {},
   "outputs": [],
   "source": []
  },
  {
   "cell_type": "code",
   "execution_count": null,
   "metadata": {},
   "outputs": [],
   "source": []
  },
  {
   "cell_type": "code",
   "execution_count": null,
   "metadata": {},
   "outputs": [],
   "source": []
  },
  {
   "cell_type": "code",
   "execution_count": null,
   "metadata": {},
   "outputs": [],
   "source": []
  },
  {
   "cell_type": "code",
   "execution_count": null,
   "metadata": {},
   "outputs": [],
   "source": []
  },
  {
   "cell_type": "code",
   "execution_count": null,
   "metadata": {},
   "outputs": [],
   "source": []
  },
  {
   "cell_type": "code",
   "execution_count": null,
   "metadata": {},
   "outputs": [],
   "source": []
  },
  {
   "cell_type": "markdown",
   "metadata": {},
   "source": [
    "# try tfidf"
   ]
  },
  {
   "cell_type": "code",
   "execution_count": null,
   "metadata": {},
   "outputs": [],
   "source": []
  }
 ],
 "metadata": {
  "kernelspec": {
   "display_name": "Python 3",
   "language": "python",
   "name": "python3"
  },
  "language_info": {
   "codemirror_mode": {
    "name": "ipython",
    "version": 3
   },
   "file_extension": ".py",
   "mimetype": "text/x-python",
   "name": "python",
   "nbconvert_exporter": "python",
   "pygments_lexer": "ipython3",
   "version": "3.6.5"
  }
 },
 "nbformat": 4,
 "nbformat_minor": 2
}
